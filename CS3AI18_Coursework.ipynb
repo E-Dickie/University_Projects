{
 "cells": [
  {
   "cell_type": "code",
   "execution_count": 1,
   "id": "4a44e227",
   "metadata": {},
   "outputs": [],
   "source": [
    "#! pip install wordcloud\n",
    "#! pip install tensorflow\n",
    "#! pip install scikeras"
   ]
  },
  {
   "cell_type": "code",
   "execution_count": 2,
   "id": "3b90f6f2",
   "metadata": {},
   "outputs": [
    {
     "name": "stderr",
     "output_type": "stream",
     "text": [
      "[nltk_data] Downloading package stopwords to\n",
      "[nltk_data]     C:\\Users\\Dicki\\AppData\\Roaming\\nltk_data...\n",
      "[nltk_data]   Package stopwords is already up-to-date!\n"
     ]
    }
   ],
   "source": [
    "#Basic data libraries\n",
    "import pandas as pd\n",
    "import numpy as np\n",
    "\n",
    "#Models\n",
    "from sklearn.pipeline import Pipeline\n",
    "from sklearn.linear_model import LogisticRegression\n",
    "from sklearn.tree import DecisionTreeClassifier\n",
    "from sklearn.naive_bayes import MultinomialNB\n",
    "from sklearn.pipeline import make_pipeline\n",
    "from scikeras.wrappers import KerasClassifier\n",
    " \n",
    "#Importing libraries necessary for Model Building and Training\n",
    "import tensorflow as tf\n",
    "from tensorflow.keras.preprocessing.text import Tokenizer\n",
    "from tensorflow.keras.preprocessing.sequence import pad_sequences\n",
    "\n",
    "#Creating features\n",
    "from textblob import TextBlob\n",
    "from sklearn.preprocessing import LabelEncoder\n",
    "from sklearn.feature_extraction.text import TfidfVectorizer\n",
    "\n",
    "#Visualisation\n",
    "import seaborn as sns\n",
    "from matplotlib import pyplot as plt\n",
    "import nltk\n",
    "from nltk.corpus import stopwords\n",
    "from wordcloud import WordCloud\n",
    "nltk.download('stopwords')\n",
    "from matplotlib import pyplot\n",
    "\n",
    "#Evaluation\n",
    "from sklearn.model_selection import train_test_split\n",
    "from sklearn import metrics\n",
    "from sklearn.metrics import accuracy_score\n",
    "from sklearn.metrics import confusion_matrix\n",
    "from sklearn.model_selection import RepeatedKFold\n",
    "from scipy.stats import sem\n",
    "from numpy import mean\n",
    "from numpy import std\n",
    "from sklearn.model_selection import StratifiedKFold\n",
    "from sklearn.model_selection import cross_val_score\n",
    "from sklearn.model_selection import cross_val_predict\n",
    "\n",
    "#Other\n",
    "import warnings\n",
    "warnings.filterwarnings('ignore')\n",
    "import string\n",
    "\n",
    "\n",
    "#https://www.geeksforgeeks.org/detecting-spam-emails-using-tensorflow-in-python/ Accessed 08/03/23\n"
   ]
  },
  {
   "cell_type": "code",
   "execution_count": 3,
   "id": "e12336a2",
   "metadata": {},
   "outputs": [],
   "source": [
    "#Read dataset, using encoding to read any unusual characters found in the dataset\n",
    "df = pd.read_csv('Spam_Dataset/spam.csv', delimiter=',', encoding='latin-1')\n",
    "#https://bobbyhadz.com/blog/python-unicodedecodeerror-utf-8-codec-cant-decode-byte Accessed 08/03/23"
   ]
  },
  {
   "cell_type": "code",
   "execution_count": 4,
   "id": "5bbfe1ec",
   "metadata": {},
   "outputs": [
    {
     "data": {
      "text/html": [
       "<div>\n",
       "<style scoped>\n",
       "    .dataframe tbody tr th:only-of-type {\n",
       "        vertical-align: middle;\n",
       "    }\n",
       "\n",
       "    .dataframe tbody tr th {\n",
       "        vertical-align: top;\n",
       "    }\n",
       "\n",
       "    .dataframe thead th {\n",
       "        text-align: right;\n",
       "    }\n",
       "</style>\n",
       "<table border=\"1\" class=\"dataframe\">\n",
       "  <thead>\n",
       "    <tr style=\"text-align: right;\">\n",
       "      <th></th>\n",
       "      <th>v1</th>\n",
       "      <th>v2</th>\n",
       "      <th>Unnamed: 2</th>\n",
       "      <th>Unnamed: 3</th>\n",
       "      <th>Unnamed: 4</th>\n",
       "    </tr>\n",
       "  </thead>\n",
       "  <tbody>\n",
       "    <tr>\n",
       "      <th>0</th>\n",
       "      <td>ham</td>\n",
       "      <td>Go until jurong point, crazy.. Available only ...</td>\n",
       "      <td>NaN</td>\n",
       "      <td>NaN</td>\n",
       "      <td>NaN</td>\n",
       "    </tr>\n",
       "    <tr>\n",
       "      <th>1</th>\n",
       "      <td>ham</td>\n",
       "      <td>Ok lar... Joking wif u oni...</td>\n",
       "      <td>NaN</td>\n",
       "      <td>NaN</td>\n",
       "      <td>NaN</td>\n",
       "    </tr>\n",
       "    <tr>\n",
       "      <th>2</th>\n",
       "      <td>spam</td>\n",
       "      <td>Free entry in 2 a wkly comp to win FA Cup fina...</td>\n",
       "      <td>NaN</td>\n",
       "      <td>NaN</td>\n",
       "      <td>NaN</td>\n",
       "    </tr>\n",
       "    <tr>\n",
       "      <th>3</th>\n",
       "      <td>ham</td>\n",
       "      <td>U dun say so early hor... U c already then say...</td>\n",
       "      <td>NaN</td>\n",
       "      <td>NaN</td>\n",
       "      <td>NaN</td>\n",
       "    </tr>\n",
       "    <tr>\n",
       "      <th>4</th>\n",
       "      <td>ham</td>\n",
       "      <td>Nah I don't think he goes to usf, he lives aro...</td>\n",
       "      <td>NaN</td>\n",
       "      <td>NaN</td>\n",
       "      <td>NaN</td>\n",
       "    </tr>\n",
       "  </tbody>\n",
       "</table>\n",
       "</div>"
      ],
      "text/plain": [
       "     v1                                                 v2 Unnamed: 2  \\\n",
       "0   ham  Go until jurong point, crazy.. Available only ...        NaN   \n",
       "1   ham                      Ok lar... Joking wif u oni...        NaN   \n",
       "2  spam  Free entry in 2 a wkly comp to win FA Cup fina...        NaN   \n",
       "3   ham  U dun say so early hor... U c already then say...        NaN   \n",
       "4   ham  Nah I don't think he goes to usf, he lives aro...        NaN   \n",
       "\n",
       "  Unnamed: 3 Unnamed: 4  \n",
       "0        NaN        NaN  \n",
       "1        NaN        NaN  \n",
       "2        NaN        NaN  \n",
       "3        NaN        NaN  \n",
       "4        NaN        NaN  "
      ]
     },
     "execution_count": 4,
     "metadata": {},
     "output_type": "execute_result"
    }
   ],
   "source": [
    "#Look at initial data\n",
    "df.head()"
   ]
  },
  {
   "cell_type": "code",
   "execution_count": 5,
   "id": "4aa4da63",
   "metadata": {},
   "outputs": [
    {
     "data": {
      "text/plain": [
       "(5572, 5)"
      ]
     },
     "execution_count": 5,
     "metadata": {},
     "output_type": "execute_result"
    }
   ],
   "source": [
    "#Look at dimensions of dataset\n",
    "df.shape"
   ]
  },
  {
   "cell_type": "code",
   "execution_count": 6,
   "id": "edf7aefa",
   "metadata": {},
   "outputs": [
    {
     "name": "stdout",
     "output_type": "stream",
     "text": [
      "<class 'pandas.core.frame.DataFrame'>\n",
      "RangeIndex: 5572 entries, 0 to 5571\n",
      "Data columns (total 5 columns):\n",
      " #   Column      Non-Null Count  Dtype \n",
      "---  ------      --------------  ----- \n",
      " 0   v1          5572 non-null   object\n",
      " 1   v2          5572 non-null   object\n",
      " 2   Unnamed: 2  50 non-null     object\n",
      " 3   Unnamed: 3  12 non-null     object\n",
      " 4   Unnamed: 4  6 non-null      object\n",
      "dtypes: object(5)\n",
      "memory usage: 217.8+ KB\n"
     ]
    }
   ],
   "source": [
    "#Check variable types\n",
    "df.info()"
   ]
  },
  {
   "cell_type": "code",
   "execution_count": 7,
   "id": "b445fceb",
   "metadata": {},
   "outputs": [
    {
     "data": {
      "text/html": [
       "<div>\n",
       "<style scoped>\n",
       "    .dataframe tbody tr th:only-of-type {\n",
       "        vertical-align: middle;\n",
       "    }\n",
       "\n",
       "    .dataframe tbody tr th {\n",
       "        vertical-align: top;\n",
       "    }\n",
       "\n",
       "    .dataframe thead th {\n",
       "        text-align: right;\n",
       "    }\n",
       "</style>\n",
       "<table border=\"1\" class=\"dataframe\">\n",
       "  <thead>\n",
       "    <tr style=\"text-align: right;\">\n",
       "      <th></th>\n",
       "      <th>v1</th>\n",
       "      <th>v2</th>\n",
       "      <th>Unnamed: 2</th>\n",
       "      <th>Unnamed: 3</th>\n",
       "      <th>Unnamed: 4</th>\n",
       "    </tr>\n",
       "  </thead>\n",
       "  <tbody>\n",
       "    <tr>\n",
       "      <th>count</th>\n",
       "      <td>5572</td>\n",
       "      <td>5572</td>\n",
       "      <td>50</td>\n",
       "      <td>12</td>\n",
       "      <td>6</td>\n",
       "    </tr>\n",
       "    <tr>\n",
       "      <th>unique</th>\n",
       "      <td>2</td>\n",
       "      <td>5169</td>\n",
       "      <td>43</td>\n",
       "      <td>10</td>\n",
       "      <td>5</td>\n",
       "    </tr>\n",
       "    <tr>\n",
       "      <th>top</th>\n",
       "      <td>ham</td>\n",
       "      <td>Sorry, I'll call later</td>\n",
       "      <td>bt not his girlfrnd... G o o d n i g h t . . .@\"</td>\n",
       "      <td>MK17 92H. 450Ppw 16\"</td>\n",
       "      <td>GNT:-)\"</td>\n",
       "    </tr>\n",
       "    <tr>\n",
       "      <th>freq</th>\n",
       "      <td>4825</td>\n",
       "      <td>30</td>\n",
       "      <td>3</td>\n",
       "      <td>2</td>\n",
       "      <td>2</td>\n",
       "    </tr>\n",
       "  </tbody>\n",
       "</table>\n",
       "</div>"
      ],
      "text/plain": [
       "          v1                      v2  \\\n",
       "count   5572                    5572   \n",
       "unique     2                    5169   \n",
       "top      ham  Sorry, I'll call later   \n",
       "freq    4825                      30   \n",
       "\n",
       "                                               Unnamed: 2  \\\n",
       "count                                                  50   \n",
       "unique                                                 43   \n",
       "top      bt not his girlfrnd... G o o d n i g h t . . .@\"   \n",
       "freq                                                    3   \n",
       "\n",
       "                   Unnamed: 3 Unnamed: 4  \n",
       "count                      12          6  \n",
       "unique                     10          5  \n",
       "top      MK17 92H. 450Ppw 16\"    GNT:-)\"  \n",
       "freq                        2          2  "
      ]
     },
     "execution_count": 7,
     "metadata": {},
     "output_type": "execute_result"
    }
   ],
   "source": [
    "#Look at statistical data about the dataset\n",
    "df.describe()"
   ]
  },
  {
   "cell_type": "code",
   "execution_count": 8,
   "id": "ea99b86d",
   "metadata": {},
   "outputs": [
    {
     "data": {
      "text/plain": [
       "v1               0\n",
       "v2               0\n",
       "Unnamed: 2    5522\n",
       "Unnamed: 3    5560\n",
       "Unnamed: 4    5566\n",
       "dtype: int64"
      ]
     },
     "execution_count": 8,
     "metadata": {},
     "output_type": "execute_result"
    }
   ],
   "source": [
    "#Look at the number of NaN values\n",
    "df.isna().sum()"
   ]
  },
  {
   "cell_type": "code",
   "execution_count": 9,
   "id": "7d1ace6d",
   "metadata": {},
   "outputs": [],
   "source": [
    "#Drop the three last columns\n",
    "df.drop(['Unnamed: 2', 'Unnamed: 3', 'Unnamed: 4'], inplace=True, axis=1)"
   ]
  },
  {
   "cell_type": "code",
   "execution_count": 10,
   "id": "54b653f7",
   "metadata": {},
   "outputs": [],
   "source": [
    "#Drop any duplicate rows\n",
    "df.drop_duplicates(inplace = True)"
   ]
  },
  {
   "cell_type": "code",
   "execution_count": 11,
   "id": "912086a3",
   "metadata": {},
   "outputs": [],
   "source": [
    "#Rename columns\n",
    "df = df.rename(columns={\"v1\": \"spam\", \"v2\": \"text\"})"
   ]
  },
  {
   "cell_type": "code",
   "execution_count": 12,
   "id": "b57f62c8",
   "metadata": {},
   "outputs": [],
   "source": [
    "#Find length of each tweet using a lambda function and create its own column\n",
    "df[\"length\"] = df[\"text\"].apply(lambda n: len(n.split()))\n",
    "\n",
    "#https://thecleverprogrammer.com/2022/06/22/count-number-of-words-in-a-column-using-python/ Accessed 09/02/23"
   ]
  },
  {
   "cell_type": "code",
   "execution_count": 13,
   "id": "de0367f2",
   "metadata": {},
   "outputs": [
    {
     "data": {
      "text/html": [
       "<div>\n",
       "<style scoped>\n",
       "    .dataframe tbody tr th:only-of-type {\n",
       "        vertical-align: middle;\n",
       "    }\n",
       "\n",
       "    .dataframe tbody tr th {\n",
       "        vertical-align: top;\n",
       "    }\n",
       "\n",
       "    .dataframe thead th {\n",
       "        text-align: right;\n",
       "    }\n",
       "</style>\n",
       "<table border=\"1\" class=\"dataframe\">\n",
       "  <thead>\n",
       "    <tr style=\"text-align: right;\">\n",
       "      <th></th>\n",
       "      <th>spam</th>\n",
       "      <th>text</th>\n",
       "      <th>length</th>\n",
       "      <th>subjectivity</th>\n",
       "      <th>polarity</th>\n",
       "      <th>sentiment</th>\n",
       "    </tr>\n",
       "  </thead>\n",
       "  <tbody>\n",
       "    <tr>\n",
       "      <th>0</th>\n",
       "      <td>ham</td>\n",
       "      <td>Go until jurong point, crazy.. Available only ...</td>\n",
       "      <td>20</td>\n",
       "      <td>0.762500</td>\n",
       "      <td>0.150000</td>\n",
       "      <td>Positive</td>\n",
       "    </tr>\n",
       "    <tr>\n",
       "      <th>1</th>\n",
       "      <td>ham</td>\n",
       "      <td>Ok lar... Joking wif u oni...</td>\n",
       "      <td>6</td>\n",
       "      <td>0.500000</td>\n",
       "      <td>0.500000</td>\n",
       "      <td>Positive</td>\n",
       "    </tr>\n",
       "    <tr>\n",
       "      <th>2</th>\n",
       "      <td>spam</td>\n",
       "      <td>Free entry in 2 a wkly comp to win FA Cup fina...</td>\n",
       "      <td>28</td>\n",
       "      <td>0.550000</td>\n",
       "      <td>0.300000</td>\n",
       "      <td>Positive</td>\n",
       "    </tr>\n",
       "    <tr>\n",
       "      <th>3</th>\n",
       "      <td>ham</td>\n",
       "      <td>U dun say so early hor... U c already then say...</td>\n",
       "      <td>11</td>\n",
       "      <td>0.300000</td>\n",
       "      <td>0.100000</td>\n",
       "      <td>Positive</td>\n",
       "    </tr>\n",
       "    <tr>\n",
       "      <th>4</th>\n",
       "      <td>ham</td>\n",
       "      <td>Nah I don't think he goes to usf, he lives aro...</td>\n",
       "      <td>13</td>\n",
       "      <td>0.000000</td>\n",
       "      <td>0.000000</td>\n",
       "      <td>Neutral</td>\n",
       "    </tr>\n",
       "    <tr>\n",
       "      <th>...</th>\n",
       "      <td>...</td>\n",
       "      <td>...</td>\n",
       "      <td>...</td>\n",
       "      <td>...</td>\n",
       "      <td>...</td>\n",
       "      <td>...</td>\n",
       "    </tr>\n",
       "    <tr>\n",
       "      <th>5567</th>\n",
       "      <td>spam</td>\n",
       "      <td>This is the 2nd time we have tried 2 contact u...</td>\n",
       "      <td>30</td>\n",
       "      <td>0.611111</td>\n",
       "      <td>0.180556</td>\n",
       "      <td>Positive</td>\n",
       "    </tr>\n",
       "    <tr>\n",
       "      <th>5568</th>\n",
       "      <td>ham</td>\n",
       "      <td>Will Ì_ b going to esplanade fr home?</td>\n",
       "      <td>8</td>\n",
       "      <td>0.000000</td>\n",
       "      <td>0.000000</td>\n",
       "      <td>Neutral</td>\n",
       "    </tr>\n",
       "    <tr>\n",
       "      <th>5569</th>\n",
       "      <td>ham</td>\n",
       "      <td>Pity, * was in mood for that. So...any other s...</td>\n",
       "      <td>10</td>\n",
       "      <td>0.287500</td>\n",
       "      <td>-0.112500</td>\n",
       "      <td>Negative</td>\n",
       "    </tr>\n",
       "    <tr>\n",
       "      <th>5570</th>\n",
       "      <td>ham</td>\n",
       "      <td>The guy did some bitching but I acted like i'd...</td>\n",
       "      <td>26</td>\n",
       "      <td>0.433333</td>\n",
       "      <td>0.216667</td>\n",
       "      <td>Positive</td>\n",
       "    </tr>\n",
       "    <tr>\n",
       "      <th>5571</th>\n",
       "      <td>ham</td>\n",
       "      <td>Rofl. Its true to its name</td>\n",
       "      <td>6</td>\n",
       "      <td>0.775000</td>\n",
       "      <td>0.575000</td>\n",
       "      <td>Positive</td>\n",
       "    </tr>\n",
       "  </tbody>\n",
       "</table>\n",
       "<p>5169 rows × 6 columns</p>\n",
       "</div>"
      ],
      "text/plain": [
       "      spam                                               text  length  \\\n",
       "0      ham  Go until jurong point, crazy.. Available only ...      20   \n",
       "1      ham                      Ok lar... Joking wif u oni...       6   \n",
       "2     spam  Free entry in 2 a wkly comp to win FA Cup fina...      28   \n",
       "3      ham  U dun say so early hor... U c already then say...      11   \n",
       "4      ham  Nah I don't think he goes to usf, he lives aro...      13   \n",
       "...    ...                                                ...     ...   \n",
       "5567  spam  This is the 2nd time we have tried 2 contact u...      30   \n",
       "5568   ham              Will Ì_ b going to esplanade fr home?       8   \n",
       "5569   ham  Pity, * was in mood for that. So...any other s...      10   \n",
       "5570   ham  The guy did some bitching but I acted like i'd...      26   \n",
       "5571   ham                         Rofl. Its true to its name       6   \n",
       "\n",
       "      subjectivity  polarity sentiment  \n",
       "0         0.762500  0.150000  Positive  \n",
       "1         0.500000  0.500000  Positive  \n",
       "2         0.550000  0.300000  Positive  \n",
       "3         0.300000  0.100000  Positive  \n",
       "4         0.000000  0.000000   Neutral  \n",
       "...            ...       ...       ...  \n",
       "5567      0.611111  0.180556  Positive  \n",
       "5568      0.000000  0.000000   Neutral  \n",
       "5569      0.287500 -0.112500  Negative  \n",
       "5570      0.433333  0.216667  Positive  \n",
       "5571      0.775000  0.575000  Positive  \n",
       "\n",
       "[5169 rows x 6 columns]"
      ]
     },
     "execution_count": 13,
     "metadata": {},
     "output_type": "execute_result"
    }
   ],
   "source": [
    "def sentiment_analysis(text):\n",
    "    def getSubjectivity(text):\n",
    "        return TextBlob(text).sentiment.subjectivity\n",
    "  \n",
    "    #Create a function to get the polarity\n",
    "    def getPolarity(text):\n",
    "        return TextBlob(text).sentiment.polarity\n",
    "  \n",
    "    #Create two new columns ‘Subjectivity’ & ‘Polarity’\n",
    "    text['subjectivity'] = text['text'].apply(getSubjectivity)\n",
    "    text['polarity'] = text['text'].apply(getPolarity)\n",
    "    #Calculate sentiment\n",
    "    def getAnalysis(score):\n",
    "        if score < 0:\n",
    "            return 'Negative'\n",
    "        elif score == 0:\n",
    "            return 'Neutral'\n",
    "        else:\n",
    "            return 'Positive'\n",
    "    text ['sentiment'] = text['polarity'].apply(getAnalysis)\n",
    "    return text\n",
    "sentiment_analysis(df)\n",
    "#https://towardsdatascience.com/my-absolute-go-to-for-sentiment-analysis-textblob-3ac3a11d524 Accessed 05/03/23"
   ]
  },
  {
   "cell_type": "code",
   "execution_count": 14,
   "id": "4288cd6d",
   "metadata": {},
   "outputs": [
    {
     "data": {
      "text/html": [
       "<div>\n",
       "<style scoped>\n",
       "    .dataframe tbody tr th:only-of-type {\n",
       "        vertical-align: middle;\n",
       "    }\n",
       "\n",
       "    .dataframe tbody tr th {\n",
       "        vertical-align: top;\n",
       "    }\n",
       "\n",
       "    .dataframe thead th {\n",
       "        text-align: right;\n",
       "    }\n",
       "</style>\n",
       "<table border=\"1\" class=\"dataframe\">\n",
       "  <thead>\n",
       "    <tr style=\"text-align: right;\">\n",
       "      <th></th>\n",
       "      <th>spam</th>\n",
       "      <th>text</th>\n",
       "      <th>length</th>\n",
       "      <th>subjectivity</th>\n",
       "      <th>polarity</th>\n",
       "      <th>sentiment</th>\n",
       "    </tr>\n",
       "  </thead>\n",
       "  <tbody>\n",
       "    <tr>\n",
       "      <th>0</th>\n",
       "      <td>ham</td>\n",
       "      <td>Go until jurong point crazy Available only in ...</td>\n",
       "      <td>20</td>\n",
       "      <td>0.7625</td>\n",
       "      <td>0.15</td>\n",
       "      <td>Positive</td>\n",
       "    </tr>\n",
       "    <tr>\n",
       "      <th>1</th>\n",
       "      <td>ham</td>\n",
       "      <td>Ok lar Joking wif u oni</td>\n",
       "      <td>6</td>\n",
       "      <td>0.5000</td>\n",
       "      <td>0.50</td>\n",
       "      <td>Positive</td>\n",
       "    </tr>\n",
       "    <tr>\n",
       "      <th>2</th>\n",
       "      <td>spam</td>\n",
       "      <td>Free entry in 2 a wkly comp to win FA Cup fina...</td>\n",
       "      <td>28</td>\n",
       "      <td>0.5500</td>\n",
       "      <td>0.30</td>\n",
       "      <td>Positive</td>\n",
       "    </tr>\n",
       "    <tr>\n",
       "      <th>3</th>\n",
       "      <td>ham</td>\n",
       "      <td>U dun say so early hor U c already then say</td>\n",
       "      <td>11</td>\n",
       "      <td>0.3000</td>\n",
       "      <td>0.10</td>\n",
       "      <td>Positive</td>\n",
       "    </tr>\n",
       "    <tr>\n",
       "      <th>4</th>\n",
       "      <td>ham</td>\n",
       "      <td>Nah I dont think he goes to usf he lives aroun...</td>\n",
       "      <td>13</td>\n",
       "      <td>0.0000</td>\n",
       "      <td>0.00</td>\n",
       "      <td>Neutral</td>\n",
       "    </tr>\n",
       "  </tbody>\n",
       "</table>\n",
       "</div>"
      ],
      "text/plain": [
       "   spam                                               text  length  \\\n",
       "0   ham  Go until jurong point crazy Available only in ...      20   \n",
       "1   ham                            Ok lar Joking wif u oni       6   \n",
       "2  spam  Free entry in 2 a wkly comp to win FA Cup fina...      28   \n",
       "3   ham        U dun say so early hor U c already then say      11   \n",
       "4   ham  Nah I dont think he goes to usf he lives aroun...      13   \n",
       "\n",
       "   subjectivity  polarity sentiment  \n",
       "0        0.7625      0.15  Positive  \n",
       "1        0.5000      0.50  Positive  \n",
       "2        0.5500      0.30  Positive  \n",
       "3        0.3000      0.10  Positive  \n",
       "4        0.0000      0.00   Neutral  "
      ]
     },
     "execution_count": 14,
     "metadata": {},
     "output_type": "execute_result"
    }
   ],
   "source": [
    "#Use String module to find list of punctuations\n",
    "punctuations_list = string.punctuation\n",
    "def remove_punctuations(text):\n",
    "    #Remove anything from punctuation list\n",
    "    temp = str.maketrans('', '', punctuations_list)\n",
    "    return text.translate(temp)\n",
    "#Apply to dataset\n",
    "df['text']= df['text'].apply(lambda x: remove_punctuations(x))\n",
    "df.head()"
   ]
  },
  {
   "cell_type": "code",
   "execution_count": 15,
   "id": "4be93e71",
   "metadata": {},
   "outputs": [
    {
     "data": {
      "text/html": [
       "<div>\n",
       "<style scoped>\n",
       "    .dataframe tbody tr th:only-of-type {\n",
       "        vertical-align: middle;\n",
       "    }\n",
       "\n",
       "    .dataframe tbody tr th {\n",
       "        vertical-align: top;\n",
       "    }\n",
       "\n",
       "    .dataframe thead th {\n",
       "        text-align: right;\n",
       "    }\n",
       "</style>\n",
       "<table border=\"1\" class=\"dataframe\">\n",
       "  <thead>\n",
       "    <tr style=\"text-align: right;\">\n",
       "      <th></th>\n",
       "      <th>spam</th>\n",
       "      <th>text</th>\n",
       "      <th>length</th>\n",
       "      <th>subjectivity</th>\n",
       "      <th>polarity</th>\n",
       "      <th>sentiment</th>\n",
       "    </tr>\n",
       "  </thead>\n",
       "  <tbody>\n",
       "    <tr>\n",
       "      <th>0</th>\n",
       "      <td>ham</td>\n",
       "      <td>go jurong point crazy available bugis n great ...</td>\n",
       "      <td>20</td>\n",
       "      <td>0.7625</td>\n",
       "      <td>0.15</td>\n",
       "      <td>Positive</td>\n",
       "    </tr>\n",
       "    <tr>\n",
       "      <th>1</th>\n",
       "      <td>ham</td>\n",
       "      <td>ok lar joking wif u oni</td>\n",
       "      <td>6</td>\n",
       "      <td>0.5000</td>\n",
       "      <td>0.50</td>\n",
       "      <td>Positive</td>\n",
       "    </tr>\n",
       "    <tr>\n",
       "      <th>2</th>\n",
       "      <td>spam</td>\n",
       "      <td>free entry 2 wkly comp win fa cup final tkts 2...</td>\n",
       "      <td>28</td>\n",
       "      <td>0.5500</td>\n",
       "      <td>0.30</td>\n",
       "      <td>Positive</td>\n",
       "    </tr>\n",
       "    <tr>\n",
       "      <th>3</th>\n",
       "      <td>ham</td>\n",
       "      <td>u dun say early hor u c already say</td>\n",
       "      <td>11</td>\n",
       "      <td>0.3000</td>\n",
       "      <td>0.10</td>\n",
       "      <td>Positive</td>\n",
       "    </tr>\n",
       "    <tr>\n",
       "      <th>4</th>\n",
       "      <td>ham</td>\n",
       "      <td>nah dont think goes usf lives around though</td>\n",
       "      <td>13</td>\n",
       "      <td>0.0000</td>\n",
       "      <td>0.00</td>\n",
       "      <td>Neutral</td>\n",
       "    </tr>\n",
       "  </tbody>\n",
       "</table>\n",
       "</div>"
      ],
      "text/plain": [
       "   spam                                               text  length  \\\n",
       "0   ham  go jurong point crazy available bugis n great ...      20   \n",
       "1   ham                            ok lar joking wif u oni       6   \n",
       "2  spam  free entry 2 wkly comp win fa cup final tkts 2...      28   \n",
       "3   ham                u dun say early hor u c already say      11   \n",
       "4   ham        nah dont think goes usf lives around though      13   \n",
       "\n",
       "   subjectivity  polarity sentiment  \n",
       "0        0.7625      0.15  Positive  \n",
       "1        0.5000      0.50  Positive  \n",
       "2        0.5500      0.30  Positive  \n",
       "3        0.3000      0.10  Positive  \n",
       "4        0.0000      0.00   Neutral  "
      ]
     },
     "execution_count": 15,
     "metadata": {},
     "output_type": "execute_result"
    }
   ],
   "source": [
    "def remove_stopwords(text):\n",
    "    #Find stop words from the English version of a stopwords list\n",
    "    stop_words = stopwords.words('english')\n",
    "    #Create list\n",
    "    imp_words = []\n",
    " \n",
    "    # Storing the important words\n",
    "    for word in str(text).split():\n",
    "        #Convert word to lower case so captitalisation doesn't affect results\n",
    "        word = word.lower()\n",
    "        #Only add words to list that aren't stop words\n",
    "        if word not in stop_words:\n",
    "            imp_words.append(word)\n",
    " \n",
    "    output = \" \".join(imp_words)\n",
    "    #Return list\n",
    "    return output\n",
    "\n",
    "#Apply function to dataset\n",
    "df['text'] = df['text'].apply(lambda text: remove_stopwords(text))\n",
    "df.head()"
   ]
  },
  {
   "cell_type": "code",
   "execution_count": 16,
   "id": "ec4ea93d",
   "metadata": {},
   "outputs": [
    {
     "data": {
      "image/png": "[encoded data removed]",
      "text/plain": [
       "<Figure size 1000x1000 with 1 Axes>"
      ]
     },
     "metadata": {},
     "output_type": "display_data"
    },
    {
     "name": "stdout",
     "output_type": "stream",
     "text": [
      "\n"
     ]
    },
    {
     "data": {
      "image/png": "[encoded data removed]",
      "text/plain": [
       "<Figure size 1000x1000 with 1 Axes>"
      ]
     },
     "metadata": {},
     "output_type": "display_data"
    },
    {
     "name": "stdout",
     "output_type": "stream",
     "text": [
      "\n"
     ]
    }
   ],
   "source": [
    "def plot_word_cloud(data, typ):\n",
    "    text_corpus = \" \".join(data['text'])\n",
    "     \n",
    "    #Create figure and set variables such as colour. Then, generate from the data fed in\n",
    "    plt.figure(figsize=(10, 10))\n",
    "    wc = WordCloud(background_color='white',\n",
    "                   max_words=100,\n",
    "                   width=200,\n",
    "                   height=100,\n",
    "                   collocations=False).generate(text_corpus)\n",
    " \n",
    "    plt.title(f'WordCloud for {typ} texts.', fontsize=15)\n",
    "    plt.axis('off')\n",
    "    plt.imshow(wc)\n",
    "    plt.show()\n",
    "    print()\n",
    "\n",
    "#Plot word clouds\n",
    "plot_word_cloud(df[df['spam'] == 'ham'], typ='Non - Spam')\n",
    "plot_word_cloud(df[df['spam'] == 'spam'], typ='Spam')"
   ]
  },
  {
   "cell_type": "code",
   "execution_count": 17,
   "id": "0e9d03c8",
   "metadata": {},
   "outputs": [],
   "source": [
    "def count_symbols_and_numbers(text, value):\n",
    "    #Calculate sum of eacg type\n",
    "    numbers = sum(c.isdigit() for c in text)\n",
    "    letters = sum(c.isalpha() for c in text)\n",
    "    spaces  = sum(c.isspace() for c in text)\n",
    "    #Create Others from everything else\n",
    "    others  = len(text) - numbers - letters - spaces\n",
    "    #Return a variable based on what was requested\n",
    "    if value == 1:\n",
    "        return others\n",
    "    elif value == 2:\n",
    "        return numbers\n",
    "    elif value == 3:\n",
    "        return spaces\n",
    "    elif value == 4:\n",
    "        return letters\n",
    "#Create new columns for each new feature and apply function\n",
    "df['symbols'] = df['text'].apply(count_symbols_and_numbers, value = 1)\n",
    "df['numbers'] = df['text'].apply(count_symbols_and_numbers, value = 2)\n",
    "df['spaces'] = df['text'].apply(count_symbols_and_numbers, value = 3)\n",
    "df['letters'] = df['text'].apply(count_symbols_and_numbers, value = 4)\n",
    "\n",
    "#https://stackoverflow.com/questions/24878174/how-to-count-digits-letters-spaces-for-a-string-in-python Accessed 08/03/23"
   ]
  },
  {
   "cell_type": "code",
   "execution_count": 18,
   "id": "33fff9f8",
   "metadata": {},
   "outputs": [
    {
     "data": {
      "text/html": [
       "<div>\n",
       "<style scoped>\n",
       "    .dataframe tbody tr th:only-of-type {\n",
       "        vertical-align: middle;\n",
       "    }\n",
       "\n",
       "    .dataframe tbody tr th {\n",
       "        vertical-align: top;\n",
       "    }\n",
       "\n",
       "    .dataframe thead th {\n",
       "        text-align: right;\n",
       "    }\n",
       "</style>\n",
       "<table border=\"1\" class=\"dataframe\">\n",
       "  <thead>\n",
       "    <tr style=\"text-align: right;\">\n",
       "      <th></th>\n",
       "      <th>spam</th>\n",
       "      <th>text</th>\n",
       "      <th>length</th>\n",
       "      <th>subjectivity</th>\n",
       "      <th>polarity</th>\n",
       "      <th>sentiment</th>\n",
       "      <th>symbols</th>\n",
       "      <th>numbers</th>\n",
       "      <th>spaces</th>\n",
       "      <th>letters</th>\n",
       "    </tr>\n",
       "  </thead>\n",
       "  <tbody>\n",
       "    <tr>\n",
       "      <th>0</th>\n",
       "      <td>ham</td>\n",
       "      <td>go jurong point crazy available bugis n great ...</td>\n",
       "      <td>20</td>\n",
       "      <td>0.762500</td>\n",
       "      <td>0.150000</td>\n",
       "      <td>Positive</td>\n",
       "      <td>0</td>\n",
       "      <td>0</td>\n",
       "      <td>15</td>\n",
       "      <td>67</td>\n",
       "    </tr>\n",
       "    <tr>\n",
       "      <th>1</th>\n",
       "      <td>ham</td>\n",
       "      <td>ok lar joking wif u oni</td>\n",
       "      <td>6</td>\n",
       "      <td>0.500000</td>\n",
       "      <td>0.500000</td>\n",
       "      <td>Positive</td>\n",
       "      <td>0</td>\n",
       "      <td>0</td>\n",
       "      <td>5</td>\n",
       "      <td>18</td>\n",
       "    </tr>\n",
       "    <tr>\n",
       "      <th>2</th>\n",
       "      <td>spam</td>\n",
       "      <td>free entry 2 wkly comp win fa cup final tkts 2...</td>\n",
       "      <td>28</td>\n",
       "      <td>0.550000</td>\n",
       "      <td>0.300000</td>\n",
       "      <td>Positive</td>\n",
       "      <td>0</td>\n",
       "      <td>25</td>\n",
       "      <td>22</td>\n",
       "      <td>88</td>\n",
       "    </tr>\n",
       "    <tr>\n",
       "      <th>3</th>\n",
       "      <td>ham</td>\n",
       "      <td>u dun say early hor u c already say</td>\n",
       "      <td>11</td>\n",
       "      <td>0.300000</td>\n",
       "      <td>0.100000</td>\n",
       "      <td>Positive</td>\n",
       "      <td>0</td>\n",
       "      <td>0</td>\n",
       "      <td>8</td>\n",
       "      <td>27</td>\n",
       "    </tr>\n",
       "    <tr>\n",
       "      <th>4</th>\n",
       "      <td>ham</td>\n",
       "      <td>nah dont think goes usf lives around though</td>\n",
       "      <td>13</td>\n",
       "      <td>0.000000</td>\n",
       "      <td>0.000000</td>\n",
       "      <td>Neutral</td>\n",
       "      <td>0</td>\n",
       "      <td>0</td>\n",
       "      <td>7</td>\n",
       "      <td>36</td>\n",
       "    </tr>\n",
       "    <tr>\n",
       "      <th>5</th>\n",
       "      <td>spam</td>\n",
       "      <td>freemsg hey darling 3 weeks word back id like ...</td>\n",
       "      <td>32</td>\n",
       "      <td>0.233333</td>\n",
       "      <td>0.308333</td>\n",
       "      <td>Positive</td>\n",
       "      <td>1</td>\n",
       "      <td>4</td>\n",
       "      <td>18</td>\n",
       "      <td>66</td>\n",
       "    </tr>\n",
       "    <tr>\n",
       "      <th>6</th>\n",
       "      <td>ham</td>\n",
       "      <td>even brother like speak treat like aids patent</td>\n",
       "      <td>16</td>\n",
       "      <td>0.000000</td>\n",
       "      <td>0.000000</td>\n",
       "      <td>Neutral</td>\n",
       "      <td>0</td>\n",
       "      <td>0</td>\n",
       "      <td>7</td>\n",
       "      <td>39</td>\n",
       "    </tr>\n",
       "    <tr>\n",
       "      <th>7</th>\n",
       "      <td>ham</td>\n",
       "      <td>per request melle melle oru minnaminunginte nu...</td>\n",
       "      <td>26</td>\n",
       "      <td>0.000000</td>\n",
       "      <td>0.000000</td>\n",
       "      <td>Neutral</td>\n",
       "      <td>0</td>\n",
       "      <td>1</td>\n",
       "      <td>15</td>\n",
       "      <td>97</td>\n",
       "    </tr>\n",
       "    <tr>\n",
       "      <th>8</th>\n",
       "      <td>spam</td>\n",
       "      <td>winner valued network customer selected receiv...</td>\n",
       "      <td>26</td>\n",
       "      <td>1.000000</td>\n",
       "      <td>0.000000</td>\n",
       "      <td>Neutral</td>\n",
       "      <td>1</td>\n",
       "      <td>19</td>\n",
       "      <td>17</td>\n",
       "      <td>85</td>\n",
       "    </tr>\n",
       "    <tr>\n",
       "      <th>9</th>\n",
       "      <td>spam</td>\n",
       "      <td>mobile 11 months u r entitled update latest co...</td>\n",
       "      <td>29</td>\n",
       "      <td>0.750000</td>\n",
       "      <td>0.475000</td>\n",
       "      <td>Positive</td>\n",
       "      <td>0</td>\n",
       "      <td>13</td>\n",
       "      <td>17</td>\n",
       "      <td>79</td>\n",
       "    </tr>\n",
       "  </tbody>\n",
       "</table>\n",
       "</div>"
      ],
      "text/plain": [
       "   spam                                               text  length  \\\n",
       "0   ham  go jurong point crazy available bugis n great ...      20   \n",
       "1   ham                            ok lar joking wif u oni       6   \n",
       "2  spam  free entry 2 wkly comp win fa cup final tkts 2...      28   \n",
       "3   ham                u dun say early hor u c already say      11   \n",
       "4   ham        nah dont think goes usf lives around though      13   \n",
       "5  spam  freemsg hey darling 3 weeks word back id like ...      32   \n",
       "6   ham     even brother like speak treat like aids patent      16   \n",
       "7   ham  per request melle melle oru minnaminunginte nu...      26   \n",
       "8  spam  winner valued network customer selected receiv...      26   \n",
       "9  spam  mobile 11 months u r entitled update latest co...      29   \n",
       "\n",
       "   subjectivity  polarity sentiment  symbols  numbers  spaces  letters  \n",
       "0      0.762500  0.150000  Positive        0        0      15       67  \n",
       "1      0.500000  0.500000  Positive        0        0       5       18  \n",
       "2      0.550000  0.300000  Positive        0       25      22       88  \n",
       "3      0.300000  0.100000  Positive        0        0       8       27  \n",
       "4      0.000000  0.000000   Neutral        0        0       7       36  \n",
       "5      0.233333  0.308333  Positive        1        4      18       66  \n",
       "6      0.000000  0.000000   Neutral        0        0       7       39  \n",
       "7      0.000000  0.000000   Neutral        0        1      15       97  \n",
       "8      1.000000  0.000000   Neutral        1       19      17       85  \n",
       "9      0.750000  0.475000  Positive        0       13      17       79  "
      ]
     },
     "execution_count": 18,
     "metadata": {},
     "output_type": "execute_result"
    }
   ],
   "source": [
    "#Check data again\n",
    "df.head(10)"
   ]
  },
  {
   "cell_type": "code",
   "execution_count": 19,
   "id": "1e302ae3",
   "metadata": {},
   "outputs": [],
   "source": [
    "#Encode spam column as numbers\n",
    "bin_encoder=LabelEncoder()\n",
    "df.spam=bin_encoder.fit_transform(df.spam)"
   ]
  },
  {
   "cell_type": "code",
   "execution_count": 20,
   "id": "4876413c",
   "metadata": {},
   "outputs": [
    {
     "data": {
      "image/png": "[encoded data removed]",
      "text/plain": [
       "<Figure size 640x480 with 1 Axes>"
      ]
     },
     "metadata": {},
     "output_type": "display_data"
    }
   ],
   "source": [
    "#Display plot of the count of each type\n",
    "sns.countplot(df['spam'])\n",
    "plt.show()"
   ]
  },
  {
   "cell_type": "code",
   "execution_count": 21,
   "id": "bca9b70f",
   "metadata": {},
   "outputs": [
    {
     "data": {
      "text/plain": [
       "Text(0.5, 0, 'Message types')"
      ]
     },
     "execution_count": 21,
     "metadata": {},
     "output_type": "execute_result"
    },
    {
     "data": {
      "image/png": "[encoded data removed]",
      "text/plain": [
       "<Figure size 640x480 with 1 Axes>"
      ]
     },
     "metadata": {},
     "output_type": "display_data"
    }
   ],
   "source": [
    "# Downsampling to balance the dataset\n",
    "ham_msg = df[df.spam == 0]\n",
    "spam_msg = df[df.spam == 1]\n",
    "ham_msg = ham_msg.sample(n = len(spam_msg), random_state=42)\n",
    " \n",
    "# Plotting the counts of down sampled dataset\n",
    "balanced_data = ham_msg.append(spam_msg).reset_index(drop = True)\n",
    "\n",
    "#Plot fugure again\n",
    "#plt.figure(figsize = (8, 6))\n",
    "sns.countplot(balanced_data.spam)\n",
    "plt.title('Distribution of Ham and Spam email messages after downsampling')\n",
    "plt.xlabel('Message types')"
   ]
  },
  {
   "cell_type": "code",
   "execution_count": 22,
   "id": "eae4395f",
   "metadata": {},
   "outputs": [
    {
     "data": {
      "text/html": [
       "<div>\n",
       "<style scoped>\n",
       "    .dataframe tbody tr th:only-of-type {\n",
       "        vertical-align: middle;\n",
       "    }\n",
       "\n",
       "    .dataframe tbody tr th {\n",
       "        vertical-align: top;\n",
       "    }\n",
       "\n",
       "    .dataframe thead th {\n",
       "        text-align: right;\n",
       "    }\n",
       "</style>\n",
       "<table border=\"1\" class=\"dataframe\">\n",
       "  <thead>\n",
       "    <tr style=\"text-align: right;\">\n",
       "      <th></th>\n",
       "      <th>spam</th>\n",
       "      <th>text</th>\n",
       "      <th>length</th>\n",
       "      <th>subjectivity</th>\n",
       "      <th>polarity</th>\n",
       "      <th>sentiment</th>\n",
       "      <th>symbols</th>\n",
       "      <th>numbers</th>\n",
       "      <th>spaces</th>\n",
       "      <th>letters</th>\n",
       "    </tr>\n",
       "  </thead>\n",
       "  <tbody>\n",
       "    <tr>\n",
       "      <th>0</th>\n",
       "      <td>0</td>\n",
       "      <td>go jurong point crazy available bugis n great ...</td>\n",
       "      <td>20</td>\n",
       "      <td>0.7625</td>\n",
       "      <td>0.15</td>\n",
       "      <td>Positive</td>\n",
       "      <td>0</td>\n",
       "      <td>0</td>\n",
       "      <td>15</td>\n",
       "      <td>67</td>\n",
       "    </tr>\n",
       "    <tr>\n",
       "      <th>1</th>\n",
       "      <td>0</td>\n",
       "      <td>ok lar joking wif u oni</td>\n",
       "      <td>6</td>\n",
       "      <td>0.5000</td>\n",
       "      <td>0.50</td>\n",
       "      <td>Positive</td>\n",
       "      <td>0</td>\n",
       "      <td>0</td>\n",
       "      <td>5</td>\n",
       "      <td>18</td>\n",
       "    </tr>\n",
       "    <tr>\n",
       "      <th>2</th>\n",
       "      <td>1</td>\n",
       "      <td>free entry 2 wkly comp win fa cup final tkts 2...</td>\n",
       "      <td>28</td>\n",
       "      <td>0.5500</td>\n",
       "      <td>0.30</td>\n",
       "      <td>Positive</td>\n",
       "      <td>0</td>\n",
       "      <td>25</td>\n",
       "      <td>22</td>\n",
       "      <td>88</td>\n",
       "    </tr>\n",
       "    <tr>\n",
       "      <th>3</th>\n",
       "      <td>0</td>\n",
       "      <td>u dun say early hor u c already say</td>\n",
       "      <td>11</td>\n",
       "      <td>0.3000</td>\n",
       "      <td>0.10</td>\n",
       "      <td>Positive</td>\n",
       "      <td>0</td>\n",
       "      <td>0</td>\n",
       "      <td>8</td>\n",
       "      <td>27</td>\n",
       "    </tr>\n",
       "    <tr>\n",
       "      <th>4</th>\n",
       "      <td>0</td>\n",
       "      <td>nah dont think goes usf lives around though</td>\n",
       "      <td>13</td>\n",
       "      <td>0.0000</td>\n",
       "      <td>0.00</td>\n",
       "      <td>Neutral</td>\n",
       "      <td>0</td>\n",
       "      <td>0</td>\n",
       "      <td>7</td>\n",
       "      <td>36</td>\n",
       "    </tr>\n",
       "  </tbody>\n",
       "</table>\n",
       "</div>"
      ],
      "text/plain": [
       "   spam                                               text  length  \\\n",
       "0     0  go jurong point crazy available bugis n great ...      20   \n",
       "1     0                            ok lar joking wif u oni       6   \n",
       "2     1  free entry 2 wkly comp win fa cup final tkts 2...      28   \n",
       "3     0                u dun say early hor u c already say      11   \n",
       "4     0        nah dont think goes usf lives around though      13   \n",
       "\n",
       "   subjectivity  polarity sentiment  symbols  numbers  spaces  letters  \n",
       "0        0.7625      0.15  Positive        0        0      15       67  \n",
       "1        0.5000      0.50  Positive        0        0       5       18  \n",
       "2        0.5500      0.30  Positive        0       25      22       88  \n",
       "3        0.3000      0.10  Positive        0        0       8       27  \n",
       "4        0.0000      0.00   Neutral        0        0       7       36  "
      ]
     },
     "execution_count": 22,
     "metadata": {},
     "output_type": "execute_result"
    }
   ],
   "source": [
    "#Check head of dataset again\n",
    "df.head()"
   ]
  },
  {
   "cell_type": "code",
   "execution_count": 23,
   "id": "148bd73a",
   "metadata": {},
   "outputs": [
    {
     "data": {
      "text/html": [
       "<div>\n",
       "<style scoped>\n",
       "    .dataframe tbody tr th:only-of-type {\n",
       "        vertical-align: middle;\n",
       "    }\n",
       "\n",
       "    .dataframe tbody tr th {\n",
       "        vertical-align: top;\n",
       "    }\n",
       "\n",
       "    .dataframe thead th {\n",
       "        text-align: right;\n",
       "    }\n",
       "</style>\n",
       "<table border=\"1\" class=\"dataframe\">\n",
       "  <thead>\n",
       "    <tr style=\"text-align: right;\">\n",
       "      <th></th>\n",
       "      <th>spam</th>\n",
       "      <th>text</th>\n",
       "      <th>length</th>\n",
       "      <th>subjectivity</th>\n",
       "      <th>polarity</th>\n",
       "      <th>sentiment</th>\n",
       "      <th>symbols</th>\n",
       "      <th>numbers</th>\n",
       "      <th>spaces</th>\n",
       "      <th>letters</th>\n",
       "    </tr>\n",
       "  </thead>\n",
       "  <tbody>\n",
       "    <tr>\n",
       "      <th>0</th>\n",
       "      <td>0</td>\n",
       "      <td>come slave going shell unconsciously avoiding ...</td>\n",
       "      <td>24</td>\n",
       "      <td>0.950000</td>\n",
       "      <td>-0.675000</td>\n",
       "      <td>Negative</td>\n",
       "      <td>0</td>\n",
       "      <td>0</td>\n",
       "      <td>7</td>\n",
       "      <td>53</td>\n",
       "    </tr>\n",
       "    <tr>\n",
       "      <th>1</th>\n",
       "      <td>0</td>\n",
       "      <td>u meet fren dun wan meet ah muz b guy rite</td>\n",
       "      <td>14</td>\n",
       "      <td>0.262500</td>\n",
       "      <td>-0.162500</td>\n",
       "      <td>Negative</td>\n",
       "      <td>0</td>\n",
       "      <td>0</td>\n",
       "      <td>10</td>\n",
       "      <td>32</td>\n",
       "    </tr>\n",
       "    <tr>\n",
       "      <th>2</th>\n",
       "      <td>0</td>\n",
       "      <td>g says never answer texts confirmdeny</td>\n",
       "      <td>8</td>\n",
       "      <td>0.000000</td>\n",
       "      <td>0.000000</td>\n",
       "      <td>Neutral</td>\n",
       "      <td>0</td>\n",
       "      <td>0</td>\n",
       "      <td>5</td>\n",
       "      <td>32</td>\n",
       "    </tr>\n",
       "    <tr>\n",
       "      <th>3</th>\n",
       "      <td>0</td>\n",
       "      <td>k much 8th fifty</td>\n",
       "      <td>10</td>\n",
       "      <td>0.200000</td>\n",
       "      <td>0.200000</td>\n",
       "      <td>Positive</td>\n",
       "      <td>0</td>\n",
       "      <td>1</td>\n",
       "      <td>3</td>\n",
       "      <td>12</td>\n",
       "    </tr>\n",
       "    <tr>\n",
       "      <th>4</th>\n",
       "      <td>0</td>\n",
       "      <td>hmm yeah grooved im looking forward pound special</td>\n",
       "      <td>17</td>\n",
       "      <td>0.785714</td>\n",
       "      <td>0.428571</td>\n",
       "      <td>Positive</td>\n",
       "      <td>0</td>\n",
       "      <td>0</td>\n",
       "      <td>7</td>\n",
       "      <td>42</td>\n",
       "    </tr>\n",
       "  </tbody>\n",
       "</table>\n",
       "</div>"
      ],
      "text/plain": [
       "   spam                                               text  length  \\\n",
       "0     0  come slave going shell unconsciously avoiding ...      24   \n",
       "1     0         u meet fren dun wan meet ah muz b guy rite      14   \n",
       "2     0              g says never answer texts confirmdeny       8   \n",
       "3     0                                   k much 8th fifty      10   \n",
       "4     0  hmm yeah grooved im looking forward pound special      17   \n",
       "\n",
       "   subjectivity  polarity sentiment  symbols  numbers  spaces  letters  \n",
       "0      0.950000 -0.675000  Negative        0        0       7       53  \n",
       "1      0.262500 -0.162500  Negative        0        0      10       32  \n",
       "2      0.000000  0.000000   Neutral        0        0       5       32  \n",
       "3      0.200000  0.200000  Positive        0        1       3       12  \n",
       "4      0.785714  0.428571  Positive        0        0       7       42  "
      ]
     },
     "execution_count": 23,
     "metadata": {},
     "output_type": "execute_result"
    }
   ],
   "source": [
    "#Compare balanced data against regular dataset to confirm that nothing came out strangely\n",
    "balanced_data.head()"
   ]
  },
  {
   "cell_type": "code",
   "execution_count": 24,
   "id": "1727d9a2",
   "metadata": {},
   "outputs": [
    {
     "data": {
      "text/plain": [
       "(1306, 10)"
      ]
     },
     "execution_count": 24,
     "metadata": {},
     "output_type": "execute_result"
    }
   ],
   "source": [
    "#Check new dimensions\n",
    "balanced_data.shape"
   ]
  },
  {
   "cell_type": "code",
   "execution_count": 25,
   "id": "7a14b65e",
   "metadata": {},
   "outputs": [
    {
     "data": {
      "image/png": "[encoded data removed]",
      "text/plain": [
       "<Figure size 640x480 with 2 Axes>"
      ]
     },
     "metadata": {},
     "output_type": "display_data"
    }
   ],
   "source": [
    "#Plot heatmap of unbalanced data\n",
    "sns.heatmap(df.corr().round(2), annot=True)\n",
    "plt.show()"
   ]
  },
  {
   "cell_type": "code",
   "execution_count": 26,
   "id": "b2d64a7e",
   "metadata": {},
   "outputs": [
    {
     "data": {
      "image/png": "[encoded data removed]",
      "text/plain": [
       "<Figure size 640x480 with 2 Axes>"
      ]
     },
     "metadata": {},
     "output_type": "display_data"
    }
   ],
   "source": [
    "#Plot heatmap of balanced data\n",
    "sns.heatmap(balanced_data.corr().round(2), annot=True)\n",
    "plt.show()"
   ]
  },
  {
   "cell_type": "code",
   "execution_count": 27,
   "id": "a35e6fe2",
   "metadata": {},
   "outputs": [],
   "source": [
    "#Split into seperate dataframes for the features and the category\n",
    "features = df.iloc[:,0:]\n",
    "target = df.iloc[:,0]\n",
    "#Split into training and testing data\n",
    "features_train, features_test, target_train, target_test = train_test_split(features,target, test_size = 0.33, random_state = 10)"
   ]
  },
  {
   "cell_type": "code",
   "execution_count": 28,
   "id": "19c9ca05",
   "metadata": {},
   "outputs": [],
   "source": [
    "#Split balanced data into seperate dataframes for the features and the category\n",
    "featuresB = balanced_data.iloc[:,0:]\n",
    "targetB = balanced_data.iloc[:,0]\n",
    "#Split into training and testing data\n",
    "features_trainB, features_testB, target_trainB, target_testB = train_test_split(featuresB,targetB, test_size = 0.33, random_state = 10)"
   ]
  },
  {
   "cell_type": "code",
   "execution_count": 29,
   "id": "7750ba20",
   "metadata": {},
   "outputs": [],
   "source": [
    "from sklearn.naive_bayes import GaussianNB\n",
    "def evaluate_model(X, y, repeats):\n",
    "    # prepare the repeated k-fold cross-validation procedure with 10 splits\n",
    "    cv = RepeatedKFold(n_splits=10, n_repeats=repeats, random_state=1)\n",
    "    # create Multinomial Naive Bayes model using pipeline\n",
    "    model = make_pipeline(TfidfVectorizer(), MultinomialNB())\n",
    "    #model = GaussianNB()\n",
    "    # evaluate model\n",
    "    scores = cross_val_score(model, X, y, scoring='accuracy', cv=cv, n_jobs=-1)\n",
    "    return scores\n",
    "#https://jakevdp.github.io/PythonDataScienceHandbook/05.05-naive-bayes.html Accessed 15/03/23"
   ]
  },
  {
   "cell_type": "code",
   "execution_count": 30,
   "id": "5570136d",
   "metadata": {},
   "outputs": [
    {
     "name": "stdout",
     "output_type": "stream",
     "text": [
      ">1 mean=0.9598 se=0.002\n",
      ">2 mean=0.9602 se=0.002\n",
      ">3 mean=0.9602 se=0.002\n",
      ">4 mean=0.9601 se=0.001\n",
      ">5 mean=0.9600 se=0.001\n",
      ">6 mean=0.9601 se=0.001\n",
      ">7 mean=0.9600 se=0.001\n",
      ">8 mean=0.9601 se=0.001\n",
      ">9 mean=0.9602 se=0.001\n",
      ">10 mean=0.9601 se=0.001\n"
     ]
    }
   ],
   "source": [
    "#Repeat 10 times\n",
    "repeats = range(1,11)\n",
    "#Create empty list\n",
    "results = list()\n",
    "for r in repeats:\n",
    "    # evaluate using a given number of repeats\n",
    "    scores = evaluate_model(features.text, target, r)\n",
    "    # summarize mean and standard error\n",
    "    print('>%d mean=%.4f se=%.3f' % (r, mean(scores), sem(scores)))\n",
    "    # store\n",
    "    results.append(scores)\n",
    "#https://machinelearningmastery.com/repeated-k-fold-cross-validation-with-python/ Accessed 15/03/23"
   ]
  },
  {
   "cell_type": "code",
   "execution_count": 31,
   "id": "32b81ef3",
   "metadata": {},
   "outputs": [
    {
     "data": {
      "image/png": "[encoded data removed]",
      "text/plain": [
       "<Figure size 640x480 with 1 Axes>"
      ]
     },
     "metadata": {},
     "output_type": "display_data"
    }
   ],
   "source": [
    "#Create boxplot of results\n",
    "pyplot.boxplot(results, labels=[str(r) for r in repeats], showmeans=True)\n",
    "pyplot.show()"
   ]
  },
  {
   "cell_type": "code",
   "execution_count": 32,
   "id": "24dab3a7",
   "metadata": {},
   "outputs": [
    {
     "name": "stdout",
     "output_type": "stream",
     "text": [
      ">1 mean=0.9410 se=0.009\n",
      ">2 mean=0.9406 se=0.005\n",
      ">3 mean=0.9405 se=0.004\n",
      ">4 mean=0.9427 se=0.003\n",
      ">5 mean=0.9421 se=0.003\n",
      ">6 mean=0.9429 se=0.003\n",
      ">7 mean=0.9423 se=0.003\n",
      ">8 mean=0.9421 se=0.003\n",
      ">9 mean=0.9422 se=0.002\n",
      ">10 mean=0.9416 se=0.002\n"
     ]
    }
   ],
   "source": [
    "results = list()\n",
    "for r in repeats:\n",
    "    # evaluate balanced data using a given number of repeats\n",
    "    scores = evaluate_model(featuresB.text, targetB, r)\n",
    "    # summarize\n",
    "    print('>%d mean=%.4f se=%.3f' % (r, mean(scores), sem(scores)))\n",
    "    # store\n",
    "    results.append(scores)"
   ]
  },
  {
   "cell_type": "code",
   "execution_count": 33,
   "id": "c28c69b9",
   "metadata": {},
   "outputs": [
    {
     "data": {
      "image/png": "[encoded data removed]",
      "text/plain": [
       "<Figure size 640x480 with 1 Axes>"
      ]
     },
     "metadata": {},
     "output_type": "display_data"
    }
   ],
   "source": [
    "#Create boxplot of results\n",
    "pyplot.boxplot(results, labels=[str(r) for r in repeats], showmeans=True)\n",
    "pyplot.show()"
   ]
  },
  {
   "cell_type": "code",
   "execution_count": 34,
   "id": "56baecc3",
   "metadata": {},
   "outputs": [],
   "source": [
    "# create model\n",
    "def create_baseline():\n",
    "    #Use keras sequential model\n",
    "    model = tf.keras.Sequential()\n",
    "    #Convert input into correct shape\n",
    "    model.add(tf.keras.Input(shape=(8,)))\n",
    "    #Create layer of 15 nodes in a dense layer (a layer which is connected with every node of the prior layer)\n",
    "    model.add(tf.keras.layers.Dense(15, input_shape=(60,), activation='relu'))\n",
    "    #Create another layer of 10 nodes. Use sigmoid function to help identify non-linear relationships within the data \n",
    "    #(https://www.learndatasci.com/glossary/sigmoid-function/ Accessed 17/03/23)\n",
    "    model.add(tf.keras.layers.Dense(10, activation='sigmoid'))\n",
    "    #Compile model\n",
    "    model.compile(optimizer='adam',loss='sparse_categorical_crossentropy',metrics=['accuracy'])\n",
    "    return model\n",
    "##https://machinelearningmastery.com/binary-classification-tutorial-with-the-keras-deep-learning-library/ Accessed 14/03/23"
   ]
  },
  {
   "cell_type": "code",
   "execution_count": 35,
   "id": "dea0ac3d",
   "metadata": {},
   "outputs": [],
   "source": [
    "class myCallback(tf.keras.callbacks.Callback):\n",
    "    def on_epoch_end(self, epoch, logs={}):\n",
    "        #If accuracy equals one, stop training\n",
    "        if(logs.get('accuracy')==1):\n",
    "            print(\"\\nReached 100% accuracy so cancelling training!\")\n",
    "            self.model.stop_training = True"
   ]
  },
  {
   "cell_type": "code",
   "execution_count": 36,
   "id": "1527066f",
   "metadata": {},
   "outputs": [],
   "source": [
    "#Drop string features since the keras model won't take these\n",
    "features.drop(['sentiment'], inplace=True, axis=1)\n",
    "features.drop(['text'], inplace=True, axis=1)\n",
    "featuresB.drop(['sentiment'], inplace=True, axis=1)\n",
    "featuresB.drop(['text'], inplace=True, axis=1)\n",
    "#Drop features for confusion matrix for keras model later\n",
    "keras_features_train = features_train.drop(['sentiment'], axis=1)\n",
    "keras_features_train = keras_features_train.drop(['text'], axis=1)\n",
    "keras_features_test = features_test.drop(['sentiment'], axis=1)\n",
    "keras_features_test = keras_features_test.drop(['text'], axis=1)\n"
   ]
  },
  {
   "cell_type": "code",
   "execution_count": 37,
   "id": "2ce33f96",
   "metadata": {},
   "outputs": [],
   "source": [
    "keras_features_trainB = features_trainB.drop(['sentiment'], axis=1)\n",
    "keras_features_trainB = keras_features_trainB.drop(['text'], axis=1)\n",
    "keras_features_testB = features_testB.drop(['sentiment'], axis=1)\n",
    "keras_features_testB = keras_features_testB.drop(['text'], axis=1)"
   ]
  },
  {
   "cell_type": "code",
   "execution_count": 38,
   "id": "19c2086b",
   "metadata": {},
   "outputs": [
    {
     "name": "stdout",
     "output_type": "stream",
     "text": [
      ">1 mean=0.9594 se=0.018\n",
      ">2 mean=0.9635 se=0.013\n",
      ">3 mean=0.9674 se=0.010\n",
      ">4 mean=0.9560 se=0.011\n",
      ">5 mean=0.9457 se=0.009\n",
      ">6 mean=0.9642 se=0.008\n",
      ">7 mean=0.9642 se=0.007\n",
      ">8 mean=0.9598 se=0.007\n",
      ">9 mean=0.9614 se=0.007\n",
      ">10 mean=0.9536 se=0.007\n"
     ]
    }
   ],
   "source": [
    "def evaluate_keras_model(X, y, repeats):\n",
    "    # prepare the cross-validation procedure\n",
    "    cv = RepeatedKFold(n_splits=5, n_repeats=repeats, random_state=1)\n",
    "    # create model\n",
    "    model = KerasClassifier(model=create_baseline, epochs=100, batch_size=5, verbose=0, callbacks=[myCallback()])\n",
    "    # evaluate model\n",
    "    scores = cross_val_score(model, X, y, scoring='accuracy', cv=cv, n_jobs=-1)\n",
    "    return scores\n",
    "#Repeat 10 times\n",
    "repeats = range(1,11)\n",
    "results = list()\n",
    "for r in repeats:\n",
    "    # evaluate using a given number of repeats\n",
    "    scores = evaluate_keras_model(features, target, r)\n",
    "    # summarize\n",
    "    print('>%d mean=%.4f se=%.3f' % (r, mean(scores), sem(scores)))\n",
    "    # store\n",
    "    results.append(scores)"
   ]
  },
  {
   "cell_type": "code",
   "execution_count": 39,
   "id": "d7950f5f",
   "metadata": {},
   "outputs": [
    {
     "data": {
      "image/png": "[encoded data removed]",
      "text/plain": [
       "<Figure size 640x480 with 1 Axes>"
      ]
     },
     "metadata": {},
     "output_type": "display_data"
    }
   ],
   "source": [
    "#Show boxplot\n",
    "pyplot.boxplot(results, labels=[str(r) for r in repeats], showmeans=True)\n",
    "pyplot.show()"
   ]
  },
  {
   "cell_type": "code",
   "execution_count": 40,
   "id": "fc9c4577",
   "metadata": {},
   "outputs": [
    {
     "name": "stdout",
     "output_type": "stream",
     "text": [
      ">1 mean=0.9234 se=0.024\n",
      ">2 mean=nan se=nan\n",
      ">3 mean=0.8639 se=0.046\n",
      ">4 mean=0.8180 se=0.042\n",
      ">5 mean=0.8465 se=0.032\n",
      ">6 mean=0.8378 se=0.032\n",
      ">7 mean=0.8797 se=0.027\n",
      ">8 mean=0.8504 se=0.027\n",
      ">9 mean=0.8663 se=0.025\n",
      ">10 mean=0.8605 se=0.024\n"
     ]
    }
   ],
   "source": [
    "#Set 10 repeats\n",
    "repeats = range(1,11)\n",
    "results = list()\n",
    "#Repeat process for balanced data\n",
    "for r in repeats:\n",
    "    # evaluate using a given number of repeats\n",
    "    scores = evaluate_keras_model(featuresB, targetB, r)\n",
    "    # summarize\n",
    "    print('>%d mean=%.4f se=%.3f' % (r, mean(scores), sem(scores)))\n",
    "    # store\n",
    "    results.append(scores)"
   ]
  },
  {
   "cell_type": "code",
   "execution_count": 41,
   "id": "35c1f18c",
   "metadata": {},
   "outputs": [
    {
     "data": {
      "image/png": "[encoded data removed]",
      "text/plain": [
       "<Figure size 640x480 with 1 Axes>"
      ]
     },
     "metadata": {},
     "output_type": "display_data"
    }
   ],
   "source": [
    "pyplot.boxplot(results, labels=[str(r) for r in repeats], showmeans=True)\n",
    "pyplot.show()"
   ]
  },
  {
   "cell_type": "code",
   "execution_count": 42,
   "id": "d5c2cc66",
   "metadata": {},
   "outputs": [
    {
     "name": "stdout",
     "output_type": "stream",
     "text": [
      "[0.50778783 0.02363654 0.00166022 0.00215316 0.00608773 0.41520628\n",
      " 0.02783044 0.0156378 ]\n"
     ]
    }
   ],
   "source": [
    "from sklearn.ensemble import ExtraTreesClassifier\n",
    "model = ExtraTreesClassifier(n_estimators=10)\n",
    "model.fit(features, target)\n",
    "print(model.feature_importances_)\n",
    "\n",
    "#https://machinelearningmastery.com/feature-selection-machine-learning-python/ Accessed 18/03/23"
   ]
  },
  {
   "cell_type": "code",
   "execution_count": 43,
   "id": "abf07896",
   "metadata": {},
   "outputs": [
    {
     "name": "stdout",
     "output_type": "stream",
     "text": [
      "Epoch 1/100\n",
      "87/87 [==============================] - 1s 5ms/step - loss: 7.5416 - accuracy: 0.4567 - val_loss: 2.5477 - val_accuracy: 0.8658\n",
      "Epoch 2/100\n",
      "87/87 [==============================] - 0s 3ms/step - loss: 0.8546 - accuracy: 0.9181 - val_loss: 0.3186 - val_accuracy: 0.9553\n",
      "Epoch 3/100\n",
      "87/87 [==============================] - 0s 3ms/step - loss: 0.2386 - accuracy: 0.9574 - val_loss: 0.2751 - val_accuracy: 0.9610\n",
      "Epoch 4/100\n",
      "87/87 [==============================] - 0s 3ms/step - loss: 0.1888 - accuracy: 0.9621 - val_loss: 0.2461 - val_accuracy: 0.9639\n",
      "Epoch 5/100\n",
      "87/87 [==============================] - 0s 2ms/step - loss: 0.1624 - accuracy: 0.9668 - val_loss: 0.2194 - val_accuracy: 0.9654\n",
      "Epoch 6/100\n",
      "87/87 [==============================] - 0s 3ms/step - loss: 0.1424 - accuracy: 0.9700 - val_loss: 0.2064 - val_accuracy: 0.9610\n",
      "Epoch 7/100\n",
      "87/87 [==============================] - 0s 3ms/step - loss: 0.1312 - accuracy: 0.9693 - val_loss: 0.1919 - val_accuracy: 0.9610\n",
      "Epoch 8/100\n",
      "87/87 [==============================] - 0s 3ms/step - loss: 0.1176 - accuracy: 0.9726 - val_loss: 0.1817 - val_accuracy: 0.9625\n",
      "Epoch 9/100\n",
      "87/87 [==============================] - 0s 3ms/step - loss: 0.1074 - accuracy: 0.9740 - val_loss: 0.1745 - val_accuracy: 0.9683\n",
      "Epoch 10/100\n",
      "87/87 [==============================] - 0s 2ms/step - loss: 0.1004 - accuracy: 0.9747 - val_loss: 0.1659 - val_accuracy: 0.9683\n",
      "Epoch 11/100\n",
      "87/87 [==============================] - 0s 2ms/step - loss: 0.0918 - accuracy: 0.9751 - val_loss: 0.1711 - val_accuracy: 0.9697\n",
      "Epoch 12/100\n",
      "87/87 [==============================] - 0s 2ms/step - loss: 0.0860 - accuracy: 0.9780 - val_loss: 0.1487 - val_accuracy: 0.9654\n",
      "Epoch 13/100\n",
      "87/87 [==============================] - 0s 3ms/step - loss: 0.0836 - accuracy: 0.9765 - val_loss: 0.1418 - val_accuracy: 0.9668\n",
      "Epoch 14/100\n",
      "87/87 [==============================] - 0s 3ms/step - loss: 0.0740 - accuracy: 0.9791 - val_loss: 0.1372 - val_accuracy: 0.9668\n",
      "Epoch 15/100\n",
      "87/87 [==============================] - 0s 2ms/step - loss: 0.0719 - accuracy: 0.9809 - val_loss: 0.1338 - val_accuracy: 0.9726\n",
      "Epoch 16/100\n",
      "87/87 [==============================] - 0s 2ms/step - loss: 0.0656 - accuracy: 0.9809 - val_loss: 0.1277 - val_accuracy: 0.9726\n",
      "Epoch 17/100\n",
      "87/87 [==============================] - 0s 2ms/step - loss: 0.0608 - accuracy: 0.9823 - val_loss: 0.1230 - val_accuracy: 0.9697\n",
      "Epoch 18/100\n",
      "87/87 [==============================] - 0s 2ms/step - loss: 0.0584 - accuracy: 0.9827 - val_loss: 0.1173 - val_accuracy: 0.9726\n",
      "Epoch 19/100\n",
      "87/87 [==============================] - 0s 2ms/step - loss: 0.0537 - accuracy: 0.9841 - val_loss: 0.1342 - val_accuracy: 0.9726\n",
      "Epoch 20/100\n",
      "87/87 [==============================] - 0s 2ms/step - loss: 0.0521 - accuracy: 0.9838 - val_loss: 0.1064 - val_accuracy: 0.9755\n",
      "Epoch 21/100\n",
      "87/87 [==============================] - 0s 2ms/step - loss: 0.0493 - accuracy: 0.9823 - val_loss: 0.1121 - val_accuracy: 0.9755\n",
      "Epoch 22/100\n",
      "87/87 [==============================] - 0s 2ms/step - loss: 0.0433 - accuracy: 0.9848 - val_loss: 0.1026 - val_accuracy: 0.9740\n",
      "Epoch 23/100\n",
      "87/87 [==============================] - 0s 2ms/step - loss: 0.0439 - accuracy: 0.9866 - val_loss: 0.0926 - val_accuracy: 0.9798\n",
      "Epoch 24/100\n",
      "87/87 [==============================] - 0s 2ms/step - loss: 0.0389 - accuracy: 0.9866 - val_loss: 0.0930 - val_accuracy: 0.9798\n",
      "Epoch 25/100\n",
      "87/87 [==============================] - 0s 2ms/step - loss: 0.0383 - accuracy: 0.9874 - val_loss: 0.1032 - val_accuracy: 0.9769\n",
      "Epoch 26/100\n",
      "87/87 [==============================] - 0s 2ms/step - loss: 0.0373 - accuracy: 0.9881 - val_loss: 0.0880 - val_accuracy: 0.9812\n",
      "Epoch 27/100\n",
      "87/87 [==============================] - 0s 2ms/step - loss: 0.0330 - accuracy: 0.9892 - val_loss: 0.0782 - val_accuracy: 0.9827\n",
      "Epoch 28/100\n",
      "87/87 [==============================] - 0s 2ms/step - loss: 0.0294 - accuracy: 0.9906 - val_loss: 0.0739 - val_accuracy: 0.9870\n",
      "Epoch 29/100\n",
      "87/87 [==============================] - 0s 2ms/step - loss: 0.0274 - accuracy: 0.9913 - val_loss: 0.0693 - val_accuracy: 0.9856\n",
      "Epoch 30/100\n",
      "87/87 [==============================] - 0s 2ms/step - loss: 0.0256 - accuracy: 0.9921 - val_loss: 0.0696 - val_accuracy: 0.9841\n",
      "Epoch 31/100\n",
      "87/87 [==============================] - 0s 2ms/step - loss: 0.0233 - accuracy: 0.9924 - val_loss: 0.0648 - val_accuracy: 0.9870\n",
      "Epoch 32/100\n",
      "87/87 [==============================] - 0s 2ms/step - loss: 0.0216 - accuracy: 0.9931 - val_loss: 0.0616 - val_accuracy: 0.9841\n",
      "Epoch 33/100\n",
      "87/87 [==============================] - 0s 2ms/step - loss: 0.0215 - accuracy: 0.9910 - val_loss: 0.0558 - val_accuracy: 0.9870\n",
      "Epoch 34/100\n",
      "87/87 [==============================] - 0s 2ms/step - loss: 0.0188 - accuracy: 0.9946 - val_loss: 0.0490 - val_accuracy: 0.9870\n",
      "Epoch 35/100\n",
      "87/87 [==============================] - 0s 2ms/step - loss: 0.0169 - accuracy: 0.9946 - val_loss: 0.0494 - val_accuracy: 0.9870\n",
      "Epoch 36/100\n",
      "87/87 [==============================] - 0s 2ms/step - loss: 0.0159 - accuracy: 0.9953 - val_loss: 0.0455 - val_accuracy: 0.9870\n",
      "Epoch 37/100\n",
      "87/87 [==============================] - 0s 2ms/step - loss: 0.0143 - accuracy: 0.9953 - val_loss: 0.0424 - val_accuracy: 0.9899\n",
      "Epoch 38/100\n",
      "87/87 [==============================] - 0s 2ms/step - loss: 0.0127 - accuracy: 0.9968 - val_loss: 0.0393 - val_accuracy: 0.9870\n",
      "Epoch 39/100\n",
      "87/87 [==============================] - 0s 2ms/step - loss: 0.0117 - accuracy: 0.9986 - val_loss: 0.0414 - val_accuracy: 0.9870\n",
      "Epoch 40/100\n",
      "87/87 [==============================] - 0s 2ms/step - loss: 0.0108 - accuracy: 0.9975 - val_loss: 0.0325 - val_accuracy: 0.9870\n",
      "Epoch 41/100\n",
      "87/87 [==============================] - 0s 2ms/step - loss: 0.0099 - accuracy: 0.9978 - val_loss: 0.0312 - val_accuracy: 0.9885\n",
      "Epoch 42/100\n",
      "87/87 [==============================] - 0s 2ms/step - loss: 0.0097 - accuracy: 0.9975 - val_loss: 0.0296 - val_accuracy: 0.9928\n",
      "Epoch 43/100\n",
      "87/87 [==============================] - 0s 2ms/step - loss: 0.0086 - accuracy: 0.9986 - val_loss: 0.0213 - val_accuracy: 0.9899\n",
      "Epoch 44/100\n",
      "87/87 [==============================] - 0s 2ms/step - loss: 0.0073 - accuracy: 0.9989 - val_loss: 0.0224 - val_accuracy: 0.9913\n",
      "Epoch 45/100\n",
      "87/87 [==============================] - 0s 2ms/step - loss: 0.0077 - accuracy: 0.9978 - val_loss: 0.0218 - val_accuracy: 0.9928\n",
      "Epoch 46/100\n",
      "87/87 [==============================] - 0s 2ms/step - loss: 0.0064 - accuracy: 0.9993 - val_loss: 0.0165 - val_accuracy: 0.9942\n",
      "Epoch 47/100\n",
      "87/87 [==============================] - 0s 2ms/step - loss: 0.0056 - accuracy: 0.9993 - val_loss: 0.0166 - val_accuracy: 0.9942\n",
      "Epoch 48/100\n",
      "87/87 [==============================] - 0s 2ms/step - loss: 0.0049 - accuracy: 0.9993 - val_loss: 0.0188 - val_accuracy: 0.9928\n",
      "Epoch 49/100\n",
      "63/87 [====================>.........] - ETA: 0s - loss: 0.0041 - accuracy: 1.0000\n",
      "Reached 100% accuracy so cancelling training!\n",
      "87/87 [==============================] - 0s 2ms/step - loss: 0.0044 - accuracy: 1.0000 - val_loss: 0.0152 - val_accuracy: 0.9928\n"
     ]
    },
    {
     "data": {
      "text/plain": [
       "<keras.callbacks.History at 0x1e4868084c0>"
      ]
     },
     "execution_count": 43,
     "metadata": {},
     "output_type": "execute_result"
    }
   ],
   "source": [
    "kModel = create_baseline()\n",
    "kModel.fit(keras_features_train, target_train, batch_size=32, shuffle=True, validation_split=0.2, epochs=100, callbacks=[myCallback()])"
   ]
  },
  {
   "cell_type": "code",
   "execution_count": 44,
   "id": "8528b0ce",
   "metadata": {},
   "outputs": [
    {
     "name": "stdout",
     "output_type": "stream",
     "text": [
      "54/54 [==============================] - 0s 1ms/step\n"
     ]
    },
    {
     "data": {
      "image/png": "[encoded data removed]",
      "text/plain": [
       "<Figure size 640x480 with 1 Axes>"
      ]
     },
     "metadata": {},
     "output_type": "display_data"
    }
   ],
   "source": [
    "y_prediction = kModel.predict(keras_features_test)\n",
    "y_prediction = np.argmax (y_prediction, axis = 1)\n",
    "mat = confusion_matrix(target_test, y_prediction)\n",
    "sns.heatmap(mat.T, square=True, annot=True, fmt='d', cbar=False)\n",
    "plt.xlabel('true label')\n",
    "plt.ylabel('predicted label');\n",
    "#https://stackoverflow.com/questions/70775762/how-to-make-a-confusion-matrix-with-keras Accessed 18/03/23"
   ]
  },
  {
   "cell_type": "code",
   "execution_count": 45,
   "id": "9fcff7ee",
   "metadata": {},
   "outputs": [
    {
     "data": {
      "text/plain": [
       "Pipeline(steps=[('tfidfvectorizer', TfidfVectorizer()),\n",
       "                ('multinomialnb', MultinomialNB())])"
      ]
     },
     "execution_count": 45,
     "metadata": {},
     "output_type": "execute_result"
    }
   ],
   "source": [
    "nbModel = make_pipeline(TfidfVectorizer(), MultinomialNB())\n",
    "nbModel.fit(features_train.text, target_train)"
   ]
  },
  {
   "cell_type": "code",
   "execution_count": 46,
   "id": "64f4b842",
   "metadata": {},
   "outputs": [
    {
     "data": {
      "image/png": "[encoded data removed]",
      "text/plain": [
       "<Figure size 640x480 with 1 Axes>"
      ]
     },
     "metadata": {},
     "output_type": "display_data"
    }
   ],
   "source": [
    "y_prediction = nbModel.predict(features_test.text)\n",
    "mat = confusion_matrix(target_test, y_prediction)\n",
    "sns.heatmap(mat.T, square=True, annot=True, fmt='d', cbar=False)\n",
    "plt.xlabel('true label')\n",
    "plt.ylabel('predicted label');"
   ]
  },
  {
   "cell_type": "code",
   "execution_count": 54,
   "id": "5a6149ee",
   "metadata": {},
   "outputs": [
    {
     "name": "stdout",
     "output_type": "stream",
     "text": [
      "Epoch 1/100\n",
      "22/22 [==============================] - 1s 9ms/step - loss: 18.3586 - accuracy: 0.0000e+00 - val_loss: 12.4349 - val_accuracy: 0.0171\n",
      "Epoch 2/100\n",
      "22/22 [==============================] - 0s 3ms/step - loss: 7.1096 - accuracy: 0.1943 - val_loss: 4.3951 - val_accuracy: 0.4571\n",
      "Epoch 3/100\n",
      "22/22 [==============================] - 0s 3ms/step - loss: 2.9723 - accuracy: 0.4743 - val_loss: 2.1354 - val_accuracy: 0.4971\n",
      "Epoch 4/100\n",
      "22/22 [==============================] - 0s 3ms/step - loss: 1.0529 - accuracy: 0.6000 - val_loss: 0.4528 - val_accuracy: 0.8914\n",
      "Epoch 5/100\n",
      "22/22 [==============================] - 0s 3ms/step - loss: 0.4724 - accuracy: 0.8857 - val_loss: 0.3605 - val_accuracy: 0.9143\n",
      "Epoch 6/100\n",
      "22/22 [==============================] - 0s 3ms/step - loss: 0.3930 - accuracy: 0.9000 - val_loss: 0.3390 - val_accuracy: 0.9314\n",
      "Epoch 7/100\n",
      "22/22 [==============================] - 0s 3ms/step - loss: 0.3710 - accuracy: 0.9014 - val_loss: 0.3181 - val_accuracy: 0.9371\n",
      "Epoch 8/100\n",
      "22/22 [==============================] - 0s 3ms/step - loss: 0.3522 - accuracy: 0.9043 - val_loss: 0.3022 - val_accuracy: 0.9486\n",
      "Epoch 9/100\n",
      "22/22 [==============================] - 0s 3ms/step - loss: 0.3269 - accuracy: 0.9100 - val_loss: 0.2729 - val_accuracy: 0.9543\n",
      "Epoch 10/100\n",
      "22/22 [==============================] - 0s 3ms/step - loss: 0.2992 - accuracy: 0.9200 - val_loss: 0.2579 - val_accuracy: 0.9600\n",
      "Epoch 11/100\n",
      "22/22 [==============================] - 0s 2ms/step - loss: 0.2831 - accuracy: 0.9229 - val_loss: 0.2430 - val_accuracy: 0.9543\n",
      "Epoch 12/100\n",
      "22/22 [==============================] - 0s 3ms/step - loss: 0.2668 - accuracy: 0.9286 - val_loss: 0.2399 - val_accuracy: 0.9657\n",
      "Epoch 13/100\n",
      "22/22 [==============================] - 0s 3ms/step - loss: 0.2534 - accuracy: 0.9400 - val_loss: 0.2236 - val_accuracy: 0.9657\n",
      "Epoch 14/100\n",
      "22/22 [==============================] - 0s 3ms/step - loss: 0.2434 - accuracy: 0.9386 - val_loss: 0.2172 - val_accuracy: 0.9657\n",
      "Epoch 15/100\n",
      "22/22 [==============================] - 0s 3ms/step - loss: 0.2329 - accuracy: 0.9414 - val_loss: 0.2116 - val_accuracy: 0.9657\n",
      "Epoch 16/100\n",
      "22/22 [==============================] - 0s 3ms/step - loss: 0.2263 - accuracy: 0.9429 - val_loss: 0.2022 - val_accuracy: 0.9657\n",
      "Epoch 17/100\n",
      "22/22 [==============================] - 0s 3ms/step - loss: 0.2195 - accuracy: 0.9500 - val_loss: 0.1949 - val_accuracy: 0.9657\n",
      "Epoch 18/100\n",
      "22/22 [==============================] - 0s 3ms/step - loss: 0.2130 - accuracy: 0.9471 - val_loss: 0.1896 - val_accuracy: 0.9657\n",
      "Epoch 19/100\n",
      "22/22 [==============================] - 0s 3ms/step - loss: 0.2081 - accuracy: 0.9500 - val_loss: 0.1845 - val_accuracy: 0.9657\n",
      "Epoch 20/100\n",
      "22/22 [==============================] - 0s 3ms/step - loss: 0.1979 - accuracy: 0.9500 - val_loss: 0.1857 - val_accuracy: 0.9657\n",
      "Epoch 21/100\n",
      "22/22 [==============================] - 0s 3ms/step - loss: 0.1927 - accuracy: 0.9571 - val_loss: 0.1769 - val_accuracy: 0.9543\n",
      "Epoch 22/100\n",
      "22/22 [==============================] - 0s 3ms/step - loss: 0.1886 - accuracy: 0.9486 - val_loss: 0.1748 - val_accuracy: 0.9657\n",
      "Epoch 23/100\n",
      "22/22 [==============================] - 0s 3ms/step - loss: 0.1842 - accuracy: 0.9543 - val_loss: 0.1735 - val_accuracy: 0.9657\n",
      "Epoch 24/100\n",
      "22/22 [==============================] - 0s 3ms/step - loss: 0.1798 - accuracy: 0.9629 - val_loss: 0.1620 - val_accuracy: 0.9714\n",
      "Epoch 25/100\n",
      "22/22 [==============================] - 0s 3ms/step - loss: 0.1723 - accuracy: 0.9600 - val_loss: 0.1589 - val_accuracy: 0.9657\n",
      "Epoch 26/100\n",
      "22/22 [==============================] - 0s 3ms/step - loss: 0.1685 - accuracy: 0.9586 - val_loss: 0.1597 - val_accuracy: 0.9657\n",
      "Epoch 27/100\n",
      "22/22 [==============================] - 0s 3ms/step - loss: 0.1650 - accuracy: 0.9586 - val_loss: 0.1507 - val_accuracy: 0.9714\n",
      "Epoch 28/100\n",
      "22/22 [==============================] - 0s 3ms/step - loss: 0.1595 - accuracy: 0.9629 - val_loss: 0.1464 - val_accuracy: 0.9714\n",
      "Epoch 29/100\n",
      "22/22 [==============================] - 0s 3ms/step - loss: 0.1536 - accuracy: 0.9586 - val_loss: 0.1453 - val_accuracy: 0.9657\n",
      "Epoch 30/100\n",
      "22/22 [==============================] - 0s 3ms/step - loss: 0.1509 - accuracy: 0.9643 - val_loss: 0.1394 - val_accuracy: 0.9714\n",
      "Epoch 31/100\n",
      "22/22 [==============================] - 0s 3ms/step - loss: 0.1461 - accuracy: 0.9686 - val_loss: 0.1364 - val_accuracy: 0.9657\n",
      "Epoch 32/100\n",
      "22/22 [==============================] - 0s 3ms/step - loss: 0.1421 - accuracy: 0.9629 - val_loss: 0.1387 - val_accuracy: 0.9657\n",
      "Epoch 33/100\n",
      "22/22 [==============================] - 0s 3ms/step - loss: 0.1396 - accuracy: 0.9700 - val_loss: 0.1292 - val_accuracy: 0.9714\n",
      "Epoch 34/100\n",
      "22/22 [==============================] - 0s 3ms/step - loss: 0.1343 - accuracy: 0.9671 - val_loss: 0.1271 - val_accuracy: 0.9657\n",
      "Epoch 35/100\n",
      "22/22 [==============================] - 0s 3ms/step - loss: 0.1302 - accuracy: 0.9714 - val_loss: 0.1238 - val_accuracy: 0.9657\n",
      "Epoch 36/100\n",
      "22/22 [==============================] - 0s 3ms/step - loss: 0.1284 - accuracy: 0.9686 - val_loss: 0.1237 - val_accuracy: 0.9657\n",
      "Epoch 37/100\n",
      "22/22 [==============================] - 0s 3ms/step - loss: 0.1251 - accuracy: 0.9743 - val_loss: 0.1180 - val_accuracy: 0.9657\n",
      "Epoch 38/100\n",
      "22/22 [==============================] - 0s 3ms/step - loss: 0.1212 - accuracy: 0.9700 - val_loss: 0.1144 - val_accuracy: 0.9771\n",
      "Epoch 39/100\n",
      "22/22 [==============================] - 0s 3ms/step - loss: 0.1168 - accuracy: 0.9714 - val_loss: 0.1136 - val_accuracy: 0.9657\n",
      "Epoch 40/100\n",
      "22/22 [==============================] - 0s 3ms/step - loss: 0.1151 - accuracy: 0.9714 - val_loss: 0.1102 - val_accuracy: 0.9657\n",
      "Epoch 41/100\n",
      "22/22 [==============================] - 0s 3ms/step - loss: 0.1115 - accuracy: 0.9771 - val_loss: 0.1055 - val_accuracy: 0.9771\n",
      "Epoch 42/100\n",
      "22/22 [==============================] - 0s 2ms/step - loss: 0.1085 - accuracy: 0.9757 - val_loss: 0.1036 - val_accuracy: 0.9714\n",
      "Epoch 43/100\n",
      "22/22 [==============================] - 0s 3ms/step - loss: 0.1052 - accuracy: 0.9786 - val_loss: 0.1011 - val_accuracy: 0.9714\n",
      "Epoch 44/100\n",
      "22/22 [==============================] - 0s 3ms/step - loss: 0.1039 - accuracy: 0.9814 - val_loss: 0.0975 - val_accuracy: 0.9771\n",
      "Epoch 45/100\n",
      "22/22 [==============================] - 0s 3ms/step - loss: 0.1016 - accuracy: 0.9743 - val_loss: 0.0972 - val_accuracy: 0.9714\n",
      "Epoch 46/100\n",
      "22/22 [==============================] - 0s 2ms/step - loss: 0.0969 - accuracy: 0.9757 - val_loss: 0.0935 - val_accuracy: 0.9771\n",
      "Epoch 47/100\n",
      "22/22 [==============================] - 0s 3ms/step - loss: 0.0944 - accuracy: 0.9800 - val_loss: 0.0905 - val_accuracy: 0.9771\n",
      "Epoch 48/100\n",
      "22/22 [==============================] - 0s 3ms/step - loss: 0.0919 - accuracy: 0.9800 - val_loss: 0.0881 - val_accuracy: 0.9771\n",
      "Epoch 49/100\n",
      "22/22 [==============================] - 0s 3ms/step - loss: 0.0931 - accuracy: 0.9757 - val_loss: 0.0891 - val_accuracy: 0.9714\n",
      "Epoch 50/100\n",
      "22/22 [==============================] - 0s 3ms/step - loss: 0.0886 - accuracy: 0.9786 - val_loss: 0.0856 - val_accuracy: 0.9771\n",
      "Epoch 51/100\n",
      "22/22 [==============================] - 0s 3ms/step - loss: 0.0846 - accuracy: 0.9814 - val_loss: 0.0819 - val_accuracy: 0.9771\n",
      "Epoch 52/100\n",
      "22/22 [==============================] - 0s 3ms/step - loss: 0.0827 - accuracy: 0.9800 - val_loss: 0.0796 - val_accuracy: 0.9771\n",
      "Epoch 53/100\n",
      "22/22 [==============================] - 0s 3ms/step - loss: 0.0792 - accuracy: 0.9814 - val_loss: 0.0803 - val_accuracy: 0.9829\n",
      "Epoch 54/100\n",
      "22/22 [==============================] - 0s 3ms/step - loss: 0.0785 - accuracy: 0.9829 - val_loss: 0.0784 - val_accuracy: 0.9771\n",
      "Epoch 55/100\n",
      "22/22 [==============================] - 0s 3ms/step - loss: 0.0817 - accuracy: 0.9771 - val_loss: 0.0752 - val_accuracy: 0.9829\n",
      "Epoch 56/100\n",
      "22/22 [==============================] - 0s 3ms/step - loss: 0.0744 - accuracy: 0.9829 - val_loss: 0.0718 - val_accuracy: 0.9771\n",
      "Epoch 57/100\n",
      "22/22 [==============================] - 0s 3ms/step - loss: 0.0722 - accuracy: 0.9800 - val_loss: 0.0702 - val_accuracy: 0.9771\n",
      "Epoch 58/100\n",
      "22/22 [==============================] - 0s 3ms/step - loss: 0.0702 - accuracy: 0.9843 - val_loss: 0.0698 - val_accuracy: 0.9886\n"
     ]
    },
    {
     "name": "stdout",
     "output_type": "stream",
     "text": [
      "Epoch 59/100\n",
      "22/22 [==============================] - 0s 3ms/step - loss: 0.0691 - accuracy: 0.9829 - val_loss: 0.0663 - val_accuracy: 0.9771\n",
      "Epoch 60/100\n",
      "22/22 [==============================] - 0s 3ms/step - loss: 0.0662 - accuracy: 0.9843 - val_loss: 0.0651 - val_accuracy: 0.9829\n",
      "Epoch 61/100\n",
      "22/22 [==============================] - 0s 3ms/step - loss: 0.0652 - accuracy: 0.9843 - val_loss: 0.0638 - val_accuracy: 0.9771\n",
      "Epoch 62/100\n",
      "22/22 [==============================] - 0s 3ms/step - loss: 0.0643 - accuracy: 0.9843 - val_loss: 0.0616 - val_accuracy: 0.9886\n",
      "Epoch 63/100\n",
      "22/22 [==============================] - 0s 3ms/step - loss: 0.0614 - accuracy: 0.9857 - val_loss: 0.0598 - val_accuracy: 0.9771\n",
      "Epoch 64/100\n",
      "22/22 [==============================] - 0s 3ms/step - loss: 0.0597 - accuracy: 0.9843 - val_loss: 0.0596 - val_accuracy: 0.9886\n",
      "Epoch 65/100\n",
      "22/22 [==============================] - 0s 3ms/step - loss: 0.0575 - accuracy: 0.9900 - val_loss: 0.0568 - val_accuracy: 0.9771\n",
      "Epoch 66/100\n",
      "22/22 [==============================] - 0s 3ms/step - loss: 0.0566 - accuracy: 0.9943 - val_loss: 0.0569 - val_accuracy: 0.9886\n",
      "Epoch 67/100\n",
      "22/22 [==============================] - 0s 3ms/step - loss: 0.0552 - accuracy: 0.9900 - val_loss: 0.0558 - val_accuracy: 0.9886\n",
      "Epoch 68/100\n",
      "22/22 [==============================] - 0s 3ms/step - loss: 0.0530 - accuracy: 0.9929 - val_loss: 0.0525 - val_accuracy: 0.9771\n",
      "Epoch 69/100\n",
      "22/22 [==============================] - 0s 3ms/step - loss: 0.0520 - accuracy: 0.9900 - val_loss: 0.0532 - val_accuracy: 0.9886\n",
      "Epoch 70/100\n",
      "22/22 [==============================] - 0s 3ms/step - loss: 0.0501 - accuracy: 0.9957 - val_loss: 0.0498 - val_accuracy: 0.9886\n",
      "Epoch 71/100\n",
      "22/22 [==============================] - 0s 3ms/step - loss: 0.0509 - accuracy: 0.9900 - val_loss: 0.0491 - val_accuracy: 0.9771\n",
      "Epoch 72/100\n",
      "22/22 [==============================] - 0s 3ms/step - loss: 0.0478 - accuracy: 0.9900 - val_loss: 0.0583 - val_accuracy: 0.9943\n",
      "Epoch 73/100\n",
      "22/22 [==============================] - 0s 3ms/step - loss: 0.0490 - accuracy: 0.9929 - val_loss: 0.0463 - val_accuracy: 0.9886\n",
      "Epoch 74/100\n",
      "22/22 [==============================] - 0s 3ms/step - loss: 0.0454 - accuracy: 0.9943 - val_loss: 0.0471 - val_accuracy: 0.9943\n",
      "Epoch 75/100\n",
      "22/22 [==============================] - 0s 3ms/step - loss: 0.0446 - accuracy: 0.9971 - val_loss: 0.0444 - val_accuracy: 0.9886\n",
      "Epoch 76/100\n",
      "22/22 [==============================] - 0s 3ms/step - loss: 0.0441 - accuracy: 0.9957 - val_loss: 0.0430 - val_accuracy: 0.9886\n",
      "Epoch 77/100\n",
      "22/22 [==============================] - 0s 3ms/step - loss: 0.0417 - accuracy: 0.9957 - val_loss: 0.0430 - val_accuracy: 0.9943\n",
      "Epoch 78/100\n",
      "22/22 [==============================] - 0s 3ms/step - loss: 0.0407 - accuracy: 0.9971 - val_loss: 0.0408 - val_accuracy: 0.9886\n",
      "Epoch 79/100\n",
      "22/22 [==============================] - 0s 3ms/step - loss: 0.0391 - accuracy: 0.9943 - val_loss: 0.0407 - val_accuracy: 0.9943\n",
      "Epoch 80/100\n",
      "22/22 [==============================] - 0s 3ms/step - loss: 0.0384 - accuracy: 0.9971 - val_loss: 0.0395 - val_accuracy: 0.9943\n",
      "Epoch 81/100\n",
      "22/22 [==============================] - 0s 3ms/step - loss: 0.0373 - accuracy: 0.9971 - val_loss: 0.0398 - val_accuracy: 0.9943\n",
      "Epoch 82/100\n",
      "22/22 [==============================] - 0s 3ms/step - loss: 0.0365 - accuracy: 0.9986 - val_loss: 0.0376 - val_accuracy: 0.9943\n",
      "Epoch 83/100\n",
      "22/22 [==============================] - 0s 3ms/step - loss: 0.0353 - accuracy: 0.9971 - val_loss: 0.0368 - val_accuracy: 0.9943\n",
      "Epoch 84/100\n",
      "22/22 [==============================] - 0s 3ms/step - loss: 0.0342 - accuracy: 0.9971 - val_loss: 0.0353 - val_accuracy: 1.0000\n",
      "Epoch 85/100\n",
      " 1/22 [>.............................] - ETA: 0s - loss: 0.0166 - accuracy: 1.0000\n",
      "Reached 100% accuracy so cancelling training!\n",
      "22/22 [==============================] - 0s 3ms/step - loss: 0.0338 - accuracy: 1.0000 - val_loss: 0.0353 - val_accuracy: 0.9943\n"
     ]
    },
    {
     "data": {
      "text/plain": [
       "<keras.callbacks.History at 0x1e486f18fa0>"
      ]
     },
     "execution_count": 54,
     "metadata": {},
     "output_type": "execute_result"
    }
   ],
   "source": [
    "kModelB = create_baseline()\n",
    "kModelB.fit(keras_features_trainB, target_trainB, batch_size=32, shuffle=True, validation_split=0.2, epochs=100, callbacks=[myCallback()])\n"
   ]
  },
  {
   "cell_type": "code",
   "execution_count": 55,
   "id": "ac07ea68",
   "metadata": {},
   "outputs": [
    {
     "name": "stdout",
     "output_type": "stream",
     "text": [
      "14/14 [==============================] - 0s 970us/step\n"
     ]
    },
    {
     "data": {
      "image/png": "[encoded data removed]",
      "text/plain": [
       "<Figure size 640x480 with 1 Axes>"
      ]
     },
     "metadata": {},
     "output_type": "display_data"
    }
   ],
   "source": [
    "y_prediction = kModelB.predict(keras_features_testB)\n",
    "y_prediction = np.argmax (y_prediction, axis = 1)\n",
    "mat = confusion_matrix(target_testB, y_prediction)\n",
    "sns.heatmap(mat.T, square=True, annot=True, fmt='d', cbar=False)\n",
    "plt.xlabel('true label')\n",
    "plt.ylabel('predicted label');"
   ]
  },
  {
   "cell_type": "code",
   "execution_count": 49,
   "id": "fd98ca5e",
   "metadata": {},
   "outputs": [
    {
     "data": {
      "text/plain": [
       "Pipeline(steps=[('tfidfvectorizer', TfidfVectorizer()),\n",
       "                ('multinomialnb', MultinomialNB())])"
      ]
     },
     "execution_count": 49,
     "metadata": {},
     "output_type": "execute_result"
    }
   ],
   "source": [
    "nbModelB = make_pipeline(TfidfVectorizer(), MultinomialNB())\n",
    "nbModelB.fit(features_trainB.text, target_trainB)"
   ]
  },
  {
   "cell_type": "code",
   "execution_count": 50,
   "id": "c6b6c2d4",
   "metadata": {},
   "outputs": [
    {
     "data": {
      "image/png": "[encoded data removed]",
      "text/plain": [
       "<Figure size 640x480 with 1 Axes>"
      ]
     },
     "metadata": {},
     "output_type": "display_data"
    }
   ],
   "source": [
    "y_prediction = nbModelB.predict(features_testB.text)\n",
    "mat = confusion_matrix(target_testB, y_prediction)\n",
    "sns.heatmap(mat.T, square=True, annot=True, fmt='d', cbar=False)\n",
    "plt.xlabel('true label')\n",
    "plt.ylabel('predicted label');"
   ]
  },
  {
   "cell_type": "code",
   "execution_count": null,
   "id": "94975405",
   "metadata": {},
   "outputs": [],
   "source": []
  }
 ],
 "metadata": {
  "kernelspec": {
   "display_name": "Python 3 (ipykernel)",
   "language": "python",
   "name": "python3"
  },
  "language_info": {
   "codemirror_mode": {
    "name": "ipython",
    "version": 3
   },
   "file_extension": ".py",
   "mimetype": "text/x-python",
   "name": "python",
   "nbconvert_exporter": "python",
   "pygments_lexer": "ipython3",
   "version": "3.9.13"
  }
 },
 "nbformat": 4,
 "nbformat_minor": 5
}
